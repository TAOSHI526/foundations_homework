{
 "cells": [
  {
   "cell_type": "code",
   "execution_count": 2,
   "metadata": {},
   "outputs": [],
   "source": [
    "import pandas as pd\n",
    "import requests\n",
    "from bs4 import BeautifulSoup\n",
    "\n"
   ]
  },
  {
   "cell_type": "code",
   "execution_count": null,
   "metadata": {},
   "outputs": [],
   "source": [
    "response = requests.get('https://www.epicurious.com/search/cucumbers')\n",
    "doc = BeautifulSoup(response.text)"
   ]
  },
  {
   "cell_type": "code",
   "execution_count": 3,
   "metadata": {},
   "outputs": [],
   "source": [
    "cus = doc.find_all(class_ = 'recipe-content-card')"
   ]
  },
  {
   "cell_type": "code",
   "execution_count": 4,
   "metadata": {},
   "outputs": [
    {
     "name": "stdout",
     "output_type": "stream",
     "text": [
      "Now scraping https://www.epicurious.com/search/cucumbers?page=1\n",
      "Now scraping https://www.epicurious.com/search/cucumbers?page=2\n",
      "Now scraping https://www.epicurious.com/search/cucumbers?page=3\n",
      "Now scraping https://www.epicurious.com/search/cucumbers?page=4\n",
      "Now scraping https://www.epicurious.com/search/cucumbers?page=5\n",
      "Now scraping https://www.epicurious.com/search/cucumbers?page=6\n",
      "Now scraping https://www.epicurious.com/search/cucumbers?page=7\n",
      "Now scraping https://www.epicurious.com/search/cucumbers?page=8\n",
      "Now scraping https://www.epicurious.com/search/cucumbers?page=9\n",
      "Now scraping https://www.epicurious.com/search/cucumbers?page=10\n",
      "Now scraping https://www.epicurious.com/search/cucumbers?page=11\n",
      "Now scraping https://www.epicurious.com/search/cucumbers?page=12\n",
      "Now scraping https://www.epicurious.com/search/cucumbers?page=13\n",
      "Now scraping https://www.epicurious.com/search/cucumbers?page=14\n",
      "Now scraping https://www.epicurious.com/search/cucumbers?page=15\n"
     ]
    },
    {
     "data": {
      "text/html": [
       "<div>\n",
       "<style scoped>\n",
       "    .dataframe tbody tr th:only-of-type {\n",
       "        vertical-align: middle;\n",
       "    }\n",
       "\n",
       "    .dataframe tbody tr th {\n",
       "        vertical-align: top;\n",
       "    }\n",
       "\n",
       "    .dataframe thead th {\n",
       "        text-align: right;\n",
       "    }\n",
       "</style>\n",
       "<table border=\"1\" class=\"dataframe\">\n",
       "  <thead>\n",
       "    <tr style=\"text-align: right;\">\n",
       "      <th></th>\n",
       "      <th>title</th>\n",
       "      <th>rating</th>\n",
       "      <th>make_again</th>\n",
       "      <th>tag</th>\n",
       "      <th>summary</th>\n",
       "      <th>URL</th>\n",
       "    </tr>\n",
       "  </thead>\n",
       "  <tbody>\n",
       "    <tr>\n",
       "      <th>0</th>\n",
       "      <td>Spicy Lightly Pickled Cucumbers</td>\n",
       "      <td>4</td>\n",
       "      <td>100%</td>\n",
       "      <td>recipe</td>\n",
       "      <td>These quick pickles have just the right amount...</td>\n",
       "      <td>/recipes/food/views/spicy-lightly-pickled-cucu...</td>\n",
       "    </tr>\n",
       "    <tr>\n",
       "      <th>1</th>\n",
       "      <td>Cucumbers with Ajo Blanco Sauce</td>\n",
       "      <td>4</td>\n",
       "      <td>100%</td>\n",
       "      <td>recipe</td>\n",
       "      <td>Think of this as an all-purpose garlic sauce. ...</td>\n",
       "      <td>/recipes/food/views/cucumbers-with-ajo-blanco-...</td>\n",
       "    </tr>\n",
       "    <tr>\n",
       "      <th>2</th>\n",
       "      <td>Cold Beef Tenderloin with Tomatoes and Cucumbers</td>\n",
       "      <td>2</td>\n",
       "      <td>0%</td>\n",
       "      <td>recipe</td>\n",
       "      <td>Beef tenderloin is precious enough to baby on ...</td>\n",
       "      <td>/recipes/food/views/cold-beef-tenderloin-with-...</td>\n",
       "    </tr>\n",
       "    <tr>\n",
       "      <th>3</th>\n",
       "      <td>Grain Salad with Tomatoes and Cucumbers</td>\n",
       "      <td>3</td>\n",
       "      <td>100%</td>\n",
       "      <td>recipe</td>\n",
       "      <td>We call for semi-pearled grains because they c...</td>\n",
       "      <td>/recipes/food/views/farro-spelt-grain-salad-wi...</td>\n",
       "    </tr>\n",
       "    <tr>\n",
       "      <th>4</th>\n",
       "      <td>Fried Fish Sandwiches with Cucumbers and Tarta...</td>\n",
       "      <td>3</td>\n",
       "      <td>100%</td>\n",
       "      <td>recipe</td>\n",
       "      <td>Take your cast-iron pan to the grill for this ...</td>\n",
       "      <td>/recipes/food/views/fried-fish-sandwiches-with...</td>\n",
       "    </tr>\n",
       "  </tbody>\n",
       "</table>\n",
       "</div>"
      ],
      "text/plain": [
       "                                               title rating make_again  \\\n",
       "0                    Spicy Lightly Pickled Cucumbers      4       100%   \n",
       "1                    Cucumbers with Ajo Blanco Sauce      4       100%   \n",
       "2   Cold Beef Tenderloin with Tomatoes and Cucumbers      2         0%   \n",
       "3            Grain Salad with Tomatoes and Cucumbers      3       100%   \n",
       "4  Fried Fish Sandwiches with Cucumbers and Tarta...      3       100%   \n",
       "\n",
       "      tag                                            summary  \\\n",
       "0  recipe  These quick pickles have just the right amount...   \n",
       "1  recipe  Think of this as an all-purpose garlic sauce. ...   \n",
       "2  recipe  Beef tenderloin is precious enough to baby on ...   \n",
       "3  recipe  We call for semi-pearled grains because they c...   \n",
       "4  recipe  Take your cast-iron pan to the grill for this ...   \n",
       "\n",
       "                                                 URL  \n",
       "0  /recipes/food/views/spicy-lightly-pickled-cucu...  \n",
       "1  /recipes/food/views/cucumbers-with-ajo-blanco-...  \n",
       "2  /recipes/food/views/cold-beef-tenderloin-with-...  \n",
       "3  /recipes/food/views/farro-spelt-grain-salad-wi...  \n",
       "4  /recipes/food/views/fried-fish-sandwiches-with...  "
      ]
     },
     "execution_count": 4,
     "metadata": {},
     "output_type": "execute_result"
    }
   ],
   "source": [
    "rows = []\n",
    "for page_num in range(1,16):\n",
    "    url = f'https://www.epicurious.com/search/cucumbers?page={page_num}'\n",
    "    print(\"Now scraping\", url)\n",
    "    response = requests.get(url)\n",
    "    doc = BeautifulSoup(response.text)\n",
    "    for cu in cus:\n",
    "        row = {}\n",
    "        try:\n",
    "            row['tag'] = cu.find(class_ = 'tag').text.strip()\n",
    "        except:\n",
    "            pass\n",
    "\n",
    "        try:\n",
    "            row['title'] = cu.find(class_ = 'hed').text.strip()\n",
    "        except:\n",
    "            pass\n",
    "\n",
    "        try:\n",
    "            row['summary'] = cu.find(class_ = 'dek').text.strip()\n",
    "        except:\n",
    "            pass\n",
    "\n",
    "        try:\n",
    "            row['rating'] = cu.find(class_ = 'rating').find('span').text.strip()\n",
    "        except:\n",
    "            pass\n",
    "\n",
    "        try:\n",
    "            row['make_again'] = cu.find(class_ = 'make-again-percentage').text.strip()\n",
    "        except:\n",
    "            pass\n",
    "\n",
    "        try:\n",
    "            row['URL'] = cu.find('a')['href']\n",
    "        except:\n",
    "            pass\n",
    "        rows.append(row)\n",
    "df = pd.DataFrame(rows)\n",
    "df = df[['title', 'rating', 'make_again', 'tag', 'summary', 'URL']]\n",
    "df.head()"
   ]
  },
  {
   "cell_type": "code",
   "execution_count": 5,
   "metadata": {},
   "outputs": [],
   "source": [
    "df.to_csv('cu_clean.csv', index = False)"
   ]
  },
  {
   "cell_type": "code",
   "execution_count": null,
   "metadata": {},
   "outputs": [],
   "source": []
  }
 ],
 "metadata": {
  "kernelspec": {
   "display_name": "Python 3",
   "language": "python",
   "name": "python3"
  },
  "language_info": {
   "codemirror_mode": {
    "name": "ipython",
    "version": 3
   },
   "file_extension": ".py",
   "mimetype": "text/x-python",
   "name": "python",
   "nbconvert_exporter": "python",
   "pygments_lexer": "ipython3",
   "version": "3.7.1"
  }
 },
 "nbformat": 4,
 "nbformat_minor": 2
}
