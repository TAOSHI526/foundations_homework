{
 "cells": [
  {
   "cell_type": "code",
   "execution_count": 1,
   "metadata": {},
   "outputs": [],
   "source": [
    "import pandas as pd\n",
    "import requests\n",
    "from bs4 import BeautifulSoup\n",
    "import re"
   ]
  },
  {
   "cell_type": "code",
   "execution_count": 2,
   "metadata": {},
   "outputs": [],
   "source": [
    "response = requests.get('https://www.goodreads.com/list/show/6934.Science_Fiction_Books_by_Female_Authors')\n",
    "doc = BeautifulSoup(response.text)"
   ]
  },
  {
   "cell_type": "code",
   "execution_count": 3,
   "metadata": {},
   "outputs": [],
   "source": [
    "books = doc.find_all('tr')"
   ]
  },
  {
   "cell_type": "code",
   "execution_count": 4,
   "metadata": {},
   "outputs": [],
   "source": [
    "# books"
   ]
  },
  {
   "cell_type": "code",
   "execution_count": 5,
   "metadata": {},
   "outputs": [
    {
     "name": "stdout",
     "output_type": "stream",
     "text": [
      "Now scraping https://www.goodreads.com/list/show/6934.Science_Fiction_Books_by_Female_Authors?page=1\n",
      "Now scraping https://www.goodreads.com/list/show/6934.Science_Fiction_Books_by_Female_Authors?page=2\n",
      "Now scraping https://www.goodreads.com/list/show/6934.Science_Fiction_Books_by_Female_Authors?page=3\n",
      "Now scraping https://www.goodreads.com/list/show/6934.Science_Fiction_Books_by_Female_Authors?page=4\n",
      "Now scraping https://www.goodreads.com/list/show/6934.Science_Fiction_Books_by_Female_Authors?page=5\n",
      "Now scraping https://www.goodreads.com/list/show/6934.Science_Fiction_Books_by_Female_Authors?page=6\n",
      "Now scraping https://www.goodreads.com/list/show/6934.Science_Fiction_Books_by_Female_Authors?page=7\n",
      "Now scraping https://www.goodreads.com/list/show/6934.Science_Fiction_Books_by_Female_Authors?page=8\n",
      "Now scraping https://www.goodreads.com/list/show/6934.Science_Fiction_Books_by_Female_Authors?page=9\n",
      "Now scraping https://www.goodreads.com/list/show/6934.Science_Fiction_Books_by_Female_Authors?page=10\n",
      "Now scraping https://www.goodreads.com/list/show/6934.Science_Fiction_Books_by_Female_Authors?page=11\n",
      "Now scraping https://www.goodreads.com/list/show/6934.Science_Fiction_Books_by_Female_Authors?page=12\n",
      "Now scraping https://www.goodreads.com/list/show/6934.Science_Fiction_Books_by_Female_Authors?page=13\n",
      "Now scraping https://www.goodreads.com/list/show/6934.Science_Fiction_Books_by_Female_Authors?page=14\n"
     ]
    },
    {
     "data": {
      "text/html": [
       "<div>\n",
       "<style scoped>\n",
       "    .dataframe tbody tr th:only-of-type {\n",
       "        vertical-align: middle;\n",
       "    }\n",
       "\n",
       "    .dataframe tbody tr th {\n",
       "        vertical-align: top;\n",
       "    }\n",
       "\n",
       "    .dataframe thead th {\n",
       "        text-align: right;\n",
       "    }\n",
       "</style>\n",
       "<table border=\"1\" class=\"dataframe\">\n",
       "  <thead>\n",
       "    <tr style=\"text-align: right;\">\n",
       "      <th></th>\n",
       "      <th>title</th>\n",
       "      <th>author</th>\n",
       "      <th>score</th>\n",
       "      <th>vote</th>\n",
       "      <th>rating</th>\n",
       "      <th>rank</th>\n",
       "    </tr>\n",
       "  </thead>\n",
       "  <tbody>\n",
       "    <tr>\n",
       "      <th>0</th>\n",
       "      <td>The Handmaid's Tale</td>\n",
       "      <td>Margaret Atwood (Goodreads Author)</td>\n",
       "      <td>score: 30,733</td>\n",
       "      <td>314 people voted</td>\n",
       "      <td>4.09 avg rating — 1,101,568 ratings</td>\n",
       "      <td>1</td>\n",
       "    </tr>\n",
       "    <tr>\n",
       "      <th>1</th>\n",
       "      <td>The Hunger Games (The Hunger Games, #1)</td>\n",
       "      <td>Suzanne Collins</td>\n",
       "      <td>score: 28,553</td>\n",
       "      <td>292 people voted</td>\n",
       "      <td>4.33 avg rating — 5,741,857 ratings</td>\n",
       "      <td>2</td>\n",
       "    </tr>\n",
       "    <tr>\n",
       "      <th>2</th>\n",
       "      <td>Frankenstein</td>\n",
       "      <td>Mary Wollstonecraft Shelley</td>\n",
       "      <td>score: 21,909</td>\n",
       "      <td>224 people voted</td>\n",
       "      <td>3.78 avg rating — 1,023,245 ratings</td>\n",
       "      <td>3</td>\n",
       "    </tr>\n",
       "    <tr>\n",
       "      <th>3</th>\n",
       "      <td>A Wrinkle in Time (Time Quintet, #1)</td>\n",
       "      <td>Madeleine L'Engle</td>\n",
       "      <td>score: 18,720</td>\n",
       "      <td>196 people voted</td>\n",
       "      <td>4.01 avg rating — 902,852 ratings</td>\n",
       "      <td>4</td>\n",
       "    </tr>\n",
       "    <tr>\n",
       "      <th>4</th>\n",
       "      <td>The Left Hand of Darkness (Hainish Cycle #4)</td>\n",
       "      <td>Ursula K. Le Guin</td>\n",
       "      <td>score: 17,920</td>\n",
       "      <td>184 people voted</td>\n",
       "      <td>4.06 avg rating — 98,748 ratings</td>\n",
       "      <td>5</td>\n",
       "    </tr>\n",
       "  </tbody>\n",
       "</table>\n",
       "</div>"
      ],
      "text/plain": [
       "                                          title  \\\n",
       "0                           The Handmaid's Tale   \n",
       "1       The Hunger Games (The Hunger Games, #1)   \n",
       "2                                  Frankenstein   \n",
       "3          A Wrinkle in Time (Time Quintet, #1)   \n",
       "4  The Left Hand of Darkness (Hainish Cycle #4)   \n",
       "\n",
       "                               author          score              vote  \\\n",
       "0  Margaret Atwood (Goodreads Author)  score: 30,733  314 people voted   \n",
       "1                     Suzanne Collins  score: 28,553  292 people voted   \n",
       "2         Mary Wollstonecraft Shelley  score: 21,909  224 people voted   \n",
       "3                   Madeleine L'Engle  score: 18,720  196 people voted   \n",
       "4                   Ursula K. Le Guin  score: 17,920  184 people voted   \n",
       "\n",
       "                                rating rank  \n",
       "0  4.09 avg rating — 1,101,568 ratings    1  \n",
       "1  4.33 avg rating — 5,741,857 ratings    2  \n",
       "2  3.78 avg rating — 1,023,245 ratings    3  \n",
       "3    4.01 avg rating — 902,852 ratings    4  \n",
       "4     4.06 avg rating — 98,748 ratings    5  "
      ]
     },
     "execution_count": 5,
     "metadata": {},
     "output_type": "execute_result"
    }
   ],
   "source": [
    "rows=[]\n",
    "for page_num in range(1,15):\n",
    "    url = f'https://www.goodreads.com/list/show/6934.Science_Fiction_Books_by_Female_Authors?page={page_num}'\n",
    "    print(\"Now scraping\", url)\n",
    "    response = requests.get(url)\n",
    "    doc = BeautifulSoup(response.text)\n",
    "    for book in books:\n",
    "        row = {}\n",
    "        row['title'] = book.find('span').text.strip()\n",
    "        row['rank'] = book.find(class_='number').text.strip()\n",
    "        row['author'] = book.find_all('span')[2].text.strip()\n",
    "        row['score'] = book.find(class_ = 'smallText uitext').find('a').text.strip()\n",
    "        row['vote'] = book.find(class_ = 'smallText uitext').find_all('a')[1].text.strip()\n",
    "        row['rating'] = book.find(class_ = 'minirating').text.strip()\n",
    "        rows.append(row)\n",
    "df = pd.DataFrame(rows)\n",
    "df = df[['title', 'author', 'score','vote','rating','rank' ]]\n",
    "df.head()"
   ]
  },
  {
   "cell_type": "code",
   "execution_count": 6,
   "metadata": {},
   "outputs": [
    {
     "data": {
      "text/plain": [
       "(1400, 6)"
      ]
     },
     "execution_count": 6,
     "metadata": {},
     "output_type": "execute_result"
    }
   ],
   "source": [
    "df.shape"
   ]
  },
  {
   "cell_type": "code",
   "execution_count": 7,
   "metadata": {},
   "outputs": [],
   "source": [
    "df['score']= df.score.str.replace('score:', '')"
   ]
  },
  {
   "cell_type": "code",
   "execution_count": 8,
   "metadata": {},
   "outputs": [
    {
     "data": {
      "text/html": [
       "<div>\n",
       "<style scoped>\n",
       "    .dataframe tbody tr th:only-of-type {\n",
       "        vertical-align: middle;\n",
       "    }\n",
       "\n",
       "    .dataframe tbody tr th {\n",
       "        vertical-align: top;\n",
       "    }\n",
       "\n",
       "    .dataframe thead th {\n",
       "        text-align: right;\n",
       "    }\n",
       "</style>\n",
       "<table border=\"1\" class=\"dataframe\">\n",
       "  <thead>\n",
       "    <tr style=\"text-align: right;\">\n",
       "      <th></th>\n",
       "      <th>title</th>\n",
       "      <th>author</th>\n",
       "      <th>score</th>\n",
       "      <th>vote</th>\n",
       "      <th>rating</th>\n",
       "      <th>rank</th>\n",
       "    </tr>\n",
       "  </thead>\n",
       "  <tbody>\n",
       "    <tr>\n",
       "      <th>0</th>\n",
       "      <td>The Handmaid's Tale</td>\n",
       "      <td>Margaret Atwood (Goodreads Author)</td>\n",
       "      <td>30,733</td>\n",
       "      <td>314 people voted</td>\n",
       "      <td>4.09 avg rating — 1,101,568 ratings</td>\n",
       "      <td>1</td>\n",
       "    </tr>\n",
       "    <tr>\n",
       "      <th>1</th>\n",
       "      <td>The Hunger Games (The Hunger Games, #1)</td>\n",
       "      <td>Suzanne Collins</td>\n",
       "      <td>28,553</td>\n",
       "      <td>292 people voted</td>\n",
       "      <td>4.33 avg rating — 5,741,857 ratings</td>\n",
       "      <td>2</td>\n",
       "    </tr>\n",
       "    <tr>\n",
       "      <th>2</th>\n",
       "      <td>Frankenstein</td>\n",
       "      <td>Mary Wollstonecraft Shelley</td>\n",
       "      <td>21,909</td>\n",
       "      <td>224 people voted</td>\n",
       "      <td>3.78 avg rating — 1,023,245 ratings</td>\n",
       "      <td>3</td>\n",
       "    </tr>\n",
       "    <tr>\n",
       "      <th>3</th>\n",
       "      <td>A Wrinkle in Time (Time Quintet, #1)</td>\n",
       "      <td>Madeleine L'Engle</td>\n",
       "      <td>18,720</td>\n",
       "      <td>196 people voted</td>\n",
       "      <td>4.01 avg rating — 902,852 ratings</td>\n",
       "      <td>4</td>\n",
       "    </tr>\n",
       "    <tr>\n",
       "      <th>4</th>\n",
       "      <td>The Left Hand of Darkness (Hainish Cycle #4)</td>\n",
       "      <td>Ursula K. Le Guin</td>\n",
       "      <td>17,920</td>\n",
       "      <td>184 people voted</td>\n",
       "      <td>4.06 avg rating — 98,748 ratings</td>\n",
       "      <td>5</td>\n",
       "    </tr>\n",
       "  </tbody>\n",
       "</table>\n",
       "</div>"
      ],
      "text/plain": [
       "                                          title  \\\n",
       "0                           The Handmaid's Tale   \n",
       "1       The Hunger Games (The Hunger Games, #1)   \n",
       "2                                  Frankenstein   \n",
       "3          A Wrinkle in Time (Time Quintet, #1)   \n",
       "4  The Left Hand of Darkness (Hainish Cycle #4)   \n",
       "\n",
       "                               author    score              vote  \\\n",
       "0  Margaret Atwood (Goodreads Author)   30,733  314 people voted   \n",
       "1                     Suzanne Collins   28,553  292 people voted   \n",
       "2         Mary Wollstonecraft Shelley   21,909  224 people voted   \n",
       "3                   Madeleine L'Engle   18,720  196 people voted   \n",
       "4                   Ursula K. Le Guin   17,920  184 people voted   \n",
       "\n",
       "                                rating rank  \n",
       "0  4.09 avg rating — 1,101,568 ratings    1  \n",
       "1  4.33 avg rating — 5,741,857 ratings    2  \n",
       "2  3.78 avg rating — 1,023,245 ratings    3  \n",
       "3    4.01 avg rating — 902,852 ratings    4  \n",
       "4     4.06 avg rating — 98,748 ratings    5  "
      ]
     },
     "execution_count": 8,
     "metadata": {},
     "output_type": "execute_result"
    }
   ],
   "source": [
    "df.head()"
   ]
  },
  {
   "cell_type": "code",
   "execution_count": 9,
   "metadata": {},
   "outputs": [],
   "source": [
    "rating_ch = []\n",
    "for rate in df.rating:\n",
    "    ratingc = rate.split(' ')[0]\n",
    "    rating_ch.append(ratingc)"
   ]
  },
  {
   "cell_type": "code",
   "execution_count": 10,
   "metadata": {},
   "outputs": [],
   "source": [
    "df['rating'] = rating_ch"
   ]
  },
  {
   "cell_type": "code",
   "execution_count": 11,
   "metadata": {},
   "outputs": [
    {
     "data": {
      "text/html": [
       "<div>\n",
       "<style scoped>\n",
       "    .dataframe tbody tr th:only-of-type {\n",
       "        vertical-align: middle;\n",
       "    }\n",
       "\n",
       "    .dataframe tbody tr th {\n",
       "        vertical-align: top;\n",
       "    }\n",
       "\n",
       "    .dataframe thead th {\n",
       "        text-align: right;\n",
       "    }\n",
       "</style>\n",
       "<table border=\"1\" class=\"dataframe\">\n",
       "  <thead>\n",
       "    <tr style=\"text-align: right;\">\n",
       "      <th></th>\n",
       "      <th>title</th>\n",
       "      <th>author</th>\n",
       "      <th>score</th>\n",
       "      <th>vote</th>\n",
       "      <th>rating</th>\n",
       "      <th>rank</th>\n",
       "    </tr>\n",
       "  </thead>\n",
       "  <tbody>\n",
       "    <tr>\n",
       "      <th>0</th>\n",
       "      <td>The Handmaid's Tale</td>\n",
       "      <td>Margaret Atwood (Goodreads Author)</td>\n",
       "      <td>30,733</td>\n",
       "      <td>314 people voted</td>\n",
       "      <td>4.09</td>\n",
       "      <td>1</td>\n",
       "    </tr>\n",
       "    <tr>\n",
       "      <th>1</th>\n",
       "      <td>The Hunger Games (The Hunger Games, #1)</td>\n",
       "      <td>Suzanne Collins</td>\n",
       "      <td>28,553</td>\n",
       "      <td>292 people voted</td>\n",
       "      <td>4.33</td>\n",
       "      <td>2</td>\n",
       "    </tr>\n",
       "    <tr>\n",
       "      <th>2</th>\n",
       "      <td>Frankenstein</td>\n",
       "      <td>Mary Wollstonecraft Shelley</td>\n",
       "      <td>21,909</td>\n",
       "      <td>224 people voted</td>\n",
       "      <td>3.78</td>\n",
       "      <td>3</td>\n",
       "    </tr>\n",
       "    <tr>\n",
       "      <th>3</th>\n",
       "      <td>A Wrinkle in Time (Time Quintet, #1)</td>\n",
       "      <td>Madeleine L'Engle</td>\n",
       "      <td>18,720</td>\n",
       "      <td>196 people voted</td>\n",
       "      <td>4.01</td>\n",
       "      <td>4</td>\n",
       "    </tr>\n",
       "    <tr>\n",
       "      <th>4</th>\n",
       "      <td>The Left Hand of Darkness (Hainish Cycle #4)</td>\n",
       "      <td>Ursula K. Le Guin</td>\n",
       "      <td>17,920</td>\n",
       "      <td>184 people voted</td>\n",
       "      <td>4.06</td>\n",
       "      <td>5</td>\n",
       "    </tr>\n",
       "  </tbody>\n",
       "</table>\n",
       "</div>"
      ],
      "text/plain": [
       "                                          title  \\\n",
       "0                           The Handmaid's Tale   \n",
       "1       The Hunger Games (The Hunger Games, #1)   \n",
       "2                                  Frankenstein   \n",
       "3          A Wrinkle in Time (Time Quintet, #1)   \n",
       "4  The Left Hand of Darkness (Hainish Cycle #4)   \n",
       "\n",
       "                               author    score              vote rating rank  \n",
       "0  Margaret Atwood (Goodreads Author)   30,733  314 people voted   4.09    1  \n",
       "1                     Suzanne Collins   28,553  292 people voted   4.33    2  \n",
       "2         Mary Wollstonecraft Shelley   21,909  224 people voted   3.78    3  \n",
       "3                   Madeleine L'Engle   18,720  196 people voted   4.01    4  \n",
       "4                   Ursula K. Le Guin   17,920  184 people voted   4.06    5  "
      ]
     },
     "execution_count": 11,
     "metadata": {},
     "output_type": "execute_result"
    }
   ],
   "source": [
    "df.head()"
   ]
  },
  {
   "cell_type": "code",
   "execution_count": 12,
   "metadata": {},
   "outputs": [],
   "source": [
    "# series_ch = []\n",
    "# for series in df.title:\n",
    "#     seriesc = series.split('(')\n",
    "#     series_ch.append(seriesc)\n",
    "    "
   ]
  },
  {
   "cell_type": "code",
   "execution_count": 13,
   "metadata": {},
   "outputs": [],
   "source": [
    "# df['title'] = series_ch"
   ]
  },
  {
   "cell_type": "code",
   "execution_count": 14,
   "metadata": {},
   "outputs": [],
   "source": [
    "s_n=[]\n",
    "for t in df.title:\n",
    "    if \"(\" in t:\n",
    "        sn_cleaned=t.split('(')[1]\n",
    "        s_n.append(sn_cleaned)\n",
    "    else:\n",
    "        s_n.append('/')\n",
    "df['s_n']=s_n\n",
    "\n"
   ]
  },
  {
   "cell_type": "code",
   "execution_count": 15,
   "metadata": {},
   "outputs": [],
   "source": [
    "series_cleaned=[]\n",
    "numbers_cleaned=[]\n",
    "for s in df.s_n:\n",
    "    if ')' in s:\n",
    "        series=s.split('#')[0]\n",
    "        numbers=s.split('#')[1]\n",
    "        series_cleaned.append(series)\n",
    "        numbers_cleaned.append(numbers)\n",
    "    else:\n",
    "        series_cleaned.append('/')\n",
    "        numbers_cleaned.append('/')\n",
    "df['series']=series_cleaned\n",
    "df['series_number']=numbers_cleaned\n"
   ]
  },
  {
   "cell_type": "code",
   "execution_count": 16,
   "metadata": {},
   "outputs": [],
   "source": [
    "# title = []\n",
    "# for tit in df.title:\n",
    "#     if '(' in tit:\n",
    "#         title_clean = tit.split('(')[0]\n",
    "#         title.append(title_clean)\n",
    "#     else:\n",
    "#         title.append(df.title)\n",
    "# df['title'] = title\n"
   ]
  },
  {
   "cell_type": "code",
   "execution_count": 17,
   "metadata": {},
   "outputs": [],
   "source": [
    "title_cleaned=[]\n",
    "for t in df.title:\n",
    "    t_cleaned=t.split('(')[0]\n",
    "    title_cleaned.append(t_cleaned)\n",
    "\n",
    "df['title']=title_cleaned\n"
   ]
  },
  {
   "cell_type": "code",
   "execution_count": 18,
   "metadata": {},
   "outputs": [],
   "source": [
    "series_num = []\n",
    "for number in df.series_number:\n",
    "    nc = number.replace(\")\", \"\")\n",
    "    series_num.append(nc)\n",
    "df.series_number = series_num"
   ]
  },
  {
   "cell_type": "code",
   "execution_count": 19,
   "metadata": {},
   "outputs": [],
   "source": [
    "df = df.drop(['s_n'], axis = 1)"
   ]
  },
  {
   "cell_type": "code",
   "execution_count": 20,
   "metadata": {},
   "outputs": [
    {
     "data": {
      "text/html": [
       "<div>\n",
       "<style scoped>\n",
       "    .dataframe tbody tr th:only-of-type {\n",
       "        vertical-align: middle;\n",
       "    }\n",
       "\n",
       "    .dataframe tbody tr th {\n",
       "        vertical-align: top;\n",
       "    }\n",
       "\n",
       "    .dataframe thead th {\n",
       "        text-align: right;\n",
       "    }\n",
       "</style>\n",
       "<table border=\"1\" class=\"dataframe\">\n",
       "  <thead>\n",
       "    <tr style=\"text-align: right;\">\n",
       "      <th></th>\n",
       "      <th>title</th>\n",
       "      <th>author</th>\n",
       "      <th>score</th>\n",
       "      <th>vote</th>\n",
       "      <th>rating</th>\n",
       "      <th>rank</th>\n",
       "      <th>series</th>\n",
       "      <th>series_number</th>\n",
       "    </tr>\n",
       "  </thead>\n",
       "  <tbody>\n",
       "    <tr>\n",
       "      <th>0</th>\n",
       "      <td>The Handmaid's Tale</td>\n",
       "      <td>Margaret Atwood (Goodreads Author)</td>\n",
       "      <td>30,733</td>\n",
       "      <td>314 people voted</td>\n",
       "      <td>4.09</td>\n",
       "      <td>1</td>\n",
       "      <td>/</td>\n",
       "      <td>/</td>\n",
       "    </tr>\n",
       "    <tr>\n",
       "      <th>1</th>\n",
       "      <td>The Hunger Games</td>\n",
       "      <td>Suzanne Collins</td>\n",
       "      <td>28,553</td>\n",
       "      <td>292 people voted</td>\n",
       "      <td>4.33</td>\n",
       "      <td>2</td>\n",
       "      <td>The Hunger Games,</td>\n",
       "      <td>1</td>\n",
       "    </tr>\n",
       "    <tr>\n",
       "      <th>2</th>\n",
       "      <td>Frankenstein</td>\n",
       "      <td>Mary Wollstonecraft Shelley</td>\n",
       "      <td>21,909</td>\n",
       "      <td>224 people voted</td>\n",
       "      <td>3.78</td>\n",
       "      <td>3</td>\n",
       "      <td>/</td>\n",
       "      <td>/</td>\n",
       "    </tr>\n",
       "    <tr>\n",
       "      <th>3</th>\n",
       "      <td>A Wrinkle in Time</td>\n",
       "      <td>Madeleine L'Engle</td>\n",
       "      <td>18,720</td>\n",
       "      <td>196 people voted</td>\n",
       "      <td>4.01</td>\n",
       "      <td>4</td>\n",
       "      <td>Time Quintet,</td>\n",
       "      <td>1</td>\n",
       "    </tr>\n",
       "    <tr>\n",
       "      <th>4</th>\n",
       "      <td>The Left Hand of Darkness</td>\n",
       "      <td>Ursula K. Le Guin</td>\n",
       "      <td>17,920</td>\n",
       "      <td>184 people voted</td>\n",
       "      <td>4.06</td>\n",
       "      <td>5</td>\n",
       "      <td>Hainish Cycle</td>\n",
       "      <td>4</td>\n",
       "    </tr>\n",
       "  </tbody>\n",
       "</table>\n",
       "</div>"
      ],
      "text/plain": [
       "                        title                              author    score  \\\n",
       "0         The Handmaid's Tale  Margaret Atwood (Goodreads Author)   30,733   \n",
       "1           The Hunger Games                      Suzanne Collins   28,553   \n",
       "2                Frankenstein         Mary Wollstonecraft Shelley   21,909   \n",
       "3          A Wrinkle in Time                    Madeleine L'Engle   18,720   \n",
       "4  The Left Hand of Darkness                    Ursula K. Le Guin   17,920   \n",
       "\n",
       "               vote rating rank              series series_number  \n",
       "0  314 people voted   4.09    1                   /             /  \n",
       "1  292 people voted   4.33    2  The Hunger Games,              1  \n",
       "2  224 people voted   3.78    3                   /             /  \n",
       "3  196 people voted   4.01    4      Time Quintet,              1  \n",
       "4  184 people voted   4.06    5      Hainish Cycle              4  "
      ]
     },
     "execution_count": 20,
     "metadata": {},
     "output_type": "execute_result"
    }
   ],
   "source": [
    "df.head()"
   ]
  },
  {
   "cell_type": "code",
   "execution_count": 21,
   "metadata": {},
   "outputs": [],
   "source": [
    "df.to_csv('SCI_FI.csv', index = False)"
   ]
  },
  {
   "cell_type": "code",
   "execution_count": null,
   "metadata": {},
   "outputs": [],
   "source": []
  }
 ],
 "metadata": {
  "kernelspec": {
   "display_name": "Python 3",
   "language": "python",
   "name": "python3"
  },
  "language_info": {
   "codemirror_mode": {
    "name": "ipython",
    "version": 3
   },
   "file_extension": ".py",
   "mimetype": "text/x-python",
   "name": "python",
   "nbconvert_exporter": "python",
   "pygments_lexer": "ipython3",
   "version": "3.7.1"
  }
 },
 "nbformat": 4,
 "nbformat_minor": 2
}
