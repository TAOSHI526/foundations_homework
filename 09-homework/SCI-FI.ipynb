{
 "cells": [
  {
   "cell_type": "code",
   "execution_count": 1,
   "metadata": {},
   "outputs": [],
   "source": [
    "import pandas as pd\n",
    "import requests\n",
    "from bs4 import BeautifulSoup\n",
    "import re"
   ]
  },
  {
   "cell_type": "code",
   "execution_count": 2,
   "metadata": {},
   "outputs": [],
   "source": [
    "response = requests.get('https://www.goodreads.com/list/show/6934.Science_Fiction_Books_by_Female_Authors')\n",
    "doc = BeautifulSoup(response.text)"
   ]
  },
  {
   "cell_type": "code",
   "execution_count": 3,
   "metadata": {},
   "outputs": [],
   "source": [
    "books = doc.find_all('tr')"
   ]
  },
  {
   "cell_type": "code",
   "execution_count": 4,
   "metadata": {},
   "outputs": [],
   "source": [
    "# books"
   ]
  },
  {
   "cell_type": "code",
   "execution_count": null,
   "metadata": {},
   "outputs": [
    {
     "name": "stdout",
     "output_type": "stream",
     "text": [
      "Now scraping https://www.goodreads.com/list/show/6934.Science_Fiction_Books_by_Female_Authors?page=1\n",
      "Now scraping https://www.goodreads.com/list/show/6934.Science_Fiction_Books_by_Female_Authors?page=2\n",
      "Now scraping https://www.goodreads.com/list/show/6934.Science_Fiction_Books_by_Female_Authors?page=3\n",
      "Now scraping https://www.goodreads.com/list/show/6934.Science_Fiction_Books_by_Female_Authors?page=4\n",
      "Now scraping https://www.goodreads.com/list/show/6934.Science_Fiction_Books_by_Female_Authors?page=5\n",
      "Now scraping https://www.goodreads.com/list/show/6934.Science_Fiction_Books_by_Female_Authors?page=6\n",
      "Now scraping https://www.goodreads.com/list/show/6934.Science_Fiction_Books_by_Female_Authors?page=7\n",
      "Now scraping https://www.goodreads.com/list/show/6934.Science_Fiction_Books_by_Female_Authors?page=8\n",
      "Now scraping https://www.goodreads.com/list/show/6934.Science_Fiction_Books_by_Female_Authors?page=9\n",
      "Now scraping https://www.goodreads.com/list/show/6934.Science_Fiction_Books_by_Female_Authors?page=10\n",
      "Now scraping https://www.goodreads.com/list/show/6934.Science_Fiction_Books_by_Female_Authors?page=11\n",
      "Now scraping https://www.goodreads.com/list/show/6934.Science_Fiction_Books_by_Female_Authors?page=12\n"
     ]
    }
   ],
   "source": [
    "rows=[]\n",
    "for page_num in range(1,15):\n",
    "    url = f'https://www.goodreads.com/list/show/6934.Science_Fiction_Books_by_Female_Authors?page={page_num}'\n",
    "    print(\"Now scraping\", url)\n",
    "    response = requests.get(url)\n",
    "    doc = BeautifulSoup(response.text)\n",
    "    for book in books:\n",
    "        row = {}\n",
    "        row['title'] = book.find('span').text.strip()\n",
    "        row['rank'] = book.find(class_='number').text.strip()\n",
    "        row['author'] = book.find_all('span')[2].text.strip()\n",
    "        row['score'] = book.find(class_ = 'smallText uitext').find('a').text.strip()\n",
    "        row['vote'] = book.find(class_ = 'smallText uitext').find_all('a')[1].text.strip()\n",
    "        row['rating'] = book.find(class_ = 'minirating').text.strip()\n",
    "        rows.append(row)\n",
    "df = pd.DataFrame(rows)\n",
    "df = df[['title', 'author', 'score','vote','rating','rank' ]]\n",
    "df.head()"
   ]
  },
  {
   "cell_type": "code",
   "execution_count": null,
   "metadata": {},
   "outputs": [],
   "source": [
    "df.shape"
   ]
  },
  {
   "cell_type": "code",
   "execution_count": null,
   "metadata": {},
   "outputs": [],
   "source": [
    "df['score']= df.score.str.replace('score:', '')"
   ]
  },
  {
   "cell_type": "code",
   "execution_count": null,
   "metadata": {},
   "outputs": [],
   "source": [
    "df.head()"
   ]
  },
  {
   "cell_type": "code",
   "execution_count": null,
   "metadata": {},
   "outputs": [],
   "source": [
    "rating_ch = []\n",
    "for rate in df.rating:\n",
    "    ratingc = rate.split(' ')[0]\n",
    "    rating_ch.append(ratingc)"
   ]
  },
  {
   "cell_type": "code",
   "execution_count": null,
   "metadata": {},
   "outputs": [],
   "source": [
    "df['rating'] = rating_ch"
   ]
  },
  {
   "cell_type": "code",
   "execution_count": null,
   "metadata": {},
   "outputs": [],
   "source": [
    "df.head()"
   ]
  },
  {
   "cell_type": "code",
   "execution_count": null,
   "metadata": {},
   "outputs": [],
   "source": [
    "# series_ch = []\n",
    "# for series in df.title:\n",
    "#     seriesc = series.split('(')\n",
    "#     series_ch.append(seriesc)\n",
    "    "
   ]
  },
  {
   "cell_type": "code",
   "execution_count": null,
   "metadata": {},
   "outputs": [],
   "source": [
    "# df['title'] = series_ch"
   ]
  },
  {
   "cell_type": "code",
   "execution_count": null,
   "metadata": {},
   "outputs": [],
   "source": [
    "s_n=[]\n",
    "for t in df.title:\n",
    "    if \"(\" in t:\n",
    "        sn_cleaned=t.split('(')[1]\n",
    "        s_n.append(sn_cleaned)\n",
    "    else:\n",
    "        s_n.append('/')\n",
    "df['s_n']=s_n\n",
    "\n",
    "df.head()"
   ]
  },
  {
   "cell_type": "code",
   "execution_count": null,
   "metadata": {},
   "outputs": [],
   "source": [
    "series_cleaned=[]\n",
    "numbers_cleaned=[]\n",
    "for s in df.s_n:\n",
    "    if ')' in s:\n",
    "        series=s.split('#')[0]\n",
    "        numbers=s.split('#')[1]\n",
    "        series_cleaned.append(series)\n",
    "        numbers_cleaned.append(numbers)\n",
    "    else:\n",
    "        series_cleaned.append('/')\n",
    "        numbers_cleaned.append('/')\n",
    "df['series']=series_cleaned\n",
    "df['series_number']=numbers_cleaned\n",
    "df.head()"
   ]
  },
  {
   "cell_type": "code",
   "execution_count": null,
   "metadata": {},
   "outputs": [],
   "source": [
    "# title = []\n",
    "# for tit in df.title:\n",
    "#     if '(' in tit:\n",
    "#         title_clean = tit.split('(')[0]\n",
    "#         title.append(title_clean)\n",
    "#     else:\n",
    "#         title.append(df.title)\n",
    "# df['title'] = title\n"
   ]
  },
  {
   "cell_type": "code",
   "execution_count": null,
   "metadata": {},
   "outputs": [],
   "source": [
    "title_cleaned=[]\n",
    "for t in df.title:\n",
    "    t_cleaned=t.split('(')[0]\n",
    "    title_cleaned.append(t_cleaned)\n",
    "\n",
    "df['title']=title_cleaned\n"
   ]
  },
  {
   "cell_type": "code",
   "execution_count": null,
   "metadata": {},
   "outputs": [],
   "source": [
    "series_num = []\n",
    "for number in df.series_number:\n",
    "    nc = number.replace(\")\", \"\")\n",
    "    series_num.append(nc)\n",
    "df.series_number = series_num\n",
    "df.head()"
   ]
  },
  {
   "cell_type": "code",
   "execution_count": null,
   "metadata": {},
   "outputs": [],
   "source": [
    "df = df.drop(['s_n'], axis = 1)\n",
    "df.head()"
   ]
  },
  {
   "cell_type": "code",
   "execution_count": null,
   "metadata": {},
   "outputs": [],
   "source": [
    "number_of_voting = []\n",
    "for vote in df.vote:\n",
    "    voting_number = vote.replace(' people voted', '')\n",
    "    number_of_voting.append(voting_number)\n",
    "df.vote = number_of_voting"
   ]
  },
  {
   "cell_type": "code",
   "execution_count": null,
   "metadata": {},
   "outputs": [],
   "source": [
    "df['number of voting'] = df.vote\n",
    "df = df.drop(['vote'], axis = 1)\n",
    "df = df[['title', 'author', 'score','number of voting','rating','rank', 'series', 'series_number']]"
   ]
  },
  {
   "cell_type": "code",
   "execution_count": null,
   "metadata": {},
   "outputs": [],
   "source": [
    "df.head()"
   ]
  },
  {
   "cell_type": "code",
   "execution_count": null,
   "metadata": {},
   "outputs": [],
   "source": [
    "df.to_csv('SCI_FI.csv', index = False)"
   ]
  },
  {
   "cell_type": "code",
   "execution_count": null,
   "metadata": {},
   "outputs": [],
   "source": []
  }
 ],
 "metadata": {
  "kernelspec": {
   "display_name": "Python 3",
   "language": "python",
   "name": "python3"
  },
  "language_info": {
   "codemirror_mode": {
    "name": "ipython",
    "version": 3
   },
   "file_extension": ".py",
   "mimetype": "text/x-python",
   "name": "python",
   "nbconvert_exporter": "python",
   "pygments_lexer": "ipython3",
   "version": "3.7.1"
  }
 },
 "nbformat": 4,
 "nbformat_minor": 2
}
