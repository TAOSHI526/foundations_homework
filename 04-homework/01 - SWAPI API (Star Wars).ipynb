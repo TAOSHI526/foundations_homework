{
 "cells": [
  {
   "cell_type": "markdown",
   "metadata": {},
   "source": [
    "# SWAPI (Star Wars)\n",
    "\n",
    "Answer the following questions using the [Star Wars](https://swapi.co/). I've added three cells for each question but you're free to use more or less! Hold `Shift` and hit `Enter` to run a cell, and use the `+` on the top left to add a new cell to a notebook.\n",
    "\n",
    "If you spend some time reading the documentation your life will probably be a little bit easier!\n",
    "\n",
    "## 0) Import any libraries you might need\n",
    "\n",
    "- *Tip: We're going to be downloading things from the internet, so we probably need `requests`.*"
   ]
  },
  {
   "cell_type": "code",
   "execution_count": 1,
   "metadata": {},
   "outputs": [],
   "source": [
    "import requests"
   ]
  },
  {
   "cell_type": "code",
   "execution_count": null,
   "metadata": {},
   "outputs": [],
   "source": []
  },
  {
   "cell_type": "code",
   "execution_count": null,
   "metadata": {},
   "outputs": [],
   "source": []
  },
  {
   "cell_type": "markdown",
   "metadata": {},
   "source": [
    "## 1) Make a request to the Star Wars API\n",
    "\n",
    "I've heard there's a new Star Wars film called **Solo**, but it isn't in SWAPI!\n",
    "\n",
    "The most recent film it contains has an ID of 7. Make a request for that film and look at the data."
   ]
  },
  {
   "cell_type": "code",
   "execution_count": 2,
   "metadata": {},
   "outputs": [],
   "source": [
    "response = requests.get('https://swapi.co/api/films/7')\n",
    "data = response.json()"
   ]
  },
  {
   "cell_type": "code",
   "execution_count": 3,
   "metadata": {},
   "outputs": [
    {
     "data": {
      "text/plain": [
       "{'title': 'The Force Awakens',\n",
       " 'episode_id': 7,\n",
       " 'opening_crawl': \"Luke Skywalker has vanished.\\r\\nIn his absence, the sinister\\r\\nFIRST ORDER has risen from\\r\\nthe ashes of the Empire\\r\\nand will not rest until\\r\\nSkywalker, the last Jedi,\\r\\nhas been destroyed.\\r\\n \\r\\nWith the support of the\\r\\nREPUBLIC, General Leia Organa\\r\\nleads a brave RESISTANCE.\\r\\nShe is desperate to find her\\r\\nbrother Luke and gain his\\r\\nhelp in restoring peace and\\r\\njustice to the galaxy.\\r\\n \\r\\nLeia has sent her most daring\\r\\npilot on a secret mission\\r\\nto Jakku, where an old ally\\r\\nhas discovered a clue to\\r\\nLuke's whereabouts....\",\n",
       " 'director': 'J. J. Abrams',\n",
       " 'producer': 'Kathleen Kennedy, J. J. Abrams, Bryan Burk',\n",
       " 'release_date': '2015-12-11',\n",
       " 'characters': ['https://swapi.co/api/people/1/',\n",
       "  'https://swapi.co/api/people/3/',\n",
       "  'https://swapi.co/api/people/5/',\n",
       "  'https://swapi.co/api/people/13/',\n",
       "  'https://swapi.co/api/people/14/',\n",
       "  'https://swapi.co/api/people/27/',\n",
       "  'https://swapi.co/api/people/84/',\n",
       "  'https://swapi.co/api/people/85/',\n",
       "  'https://swapi.co/api/people/86/',\n",
       "  'https://swapi.co/api/people/87/',\n",
       "  'https://swapi.co/api/people/88/'],\n",
       " 'planets': ['https://swapi.co/api/planets/61/'],\n",
       " 'starships': ['https://swapi.co/api/starships/77/',\n",
       "  'https://swapi.co/api/starships/10/'],\n",
       " 'vehicles': [],\n",
       " 'species': ['https://swapi.co/api/species/3/',\n",
       "  'https://swapi.co/api/species/2/',\n",
       "  'https://swapi.co/api/species/1/'],\n",
       " 'created': '2015-04-17T06:51:30.504780Z',\n",
       " 'edited': '2015-12-17T14:31:47.617768Z',\n",
       " 'url': 'https://swapi.co/api/films/7/'}"
      ]
     },
     "execution_count": 3,
     "metadata": {},
     "output_type": "execute_result"
    }
   ],
   "source": [
    "data"
   ]
  },
  {
   "cell_type": "code",
   "execution_count": 4,
   "metadata": {},
   "outputs": [
    {
     "data": {
      "text/plain": [
       "dict_keys(['title', 'episode_id', 'opening_crawl', 'director', 'producer', 'release_date', 'characters', 'planets', 'starships', 'vehicles', 'species', 'created', 'edited', 'url'])"
      ]
     },
     "execution_count": 4,
     "metadata": {},
     "output_type": "execute_result"
    }
   ],
   "source": [
    "data.keys()\n"
   ]
  },
  {
   "cell_type": "markdown",
   "metadata": {},
   "source": [
    "## 2) What is that film's name, and when was it released?\n",
    "\n",
    "Please print **only** the title and the release date. You can guess at the keys, but I recommend checking the documentation."
   ]
  },
  {
   "cell_type": "code",
   "execution_count": 5,
   "metadata": {},
   "outputs": [
    {
     "data": {
      "text/plain": [
       "'The Force Awakens'"
      ]
     },
     "execution_count": 5,
     "metadata": {},
     "output_type": "execute_result"
    }
   ],
   "source": [
    "data['title']"
   ]
  },
  {
   "cell_type": "code",
   "execution_count": 6,
   "metadata": {},
   "outputs": [
    {
     "data": {
      "text/plain": [
       "'2015-12-11'"
      ]
     },
     "execution_count": 6,
     "metadata": {},
     "output_type": "execute_result"
    }
   ],
   "source": [
    "data['release_date']"
   ]
  },
  {
   "cell_type": "code",
   "execution_count": null,
   "metadata": {},
   "outputs": [],
   "source": []
  },
  {
   "cell_type": "markdown",
   "metadata": {},
   "source": [
    "## 3) But I want Han Solo! Use the API to search for people named \"Solo\"."
   ]
  },
  {
   "cell_type": "code",
   "execution_count": 7,
   "metadata": {},
   "outputs": [],
   "source": [
    "url = 'https://swapi.co/api/people/'"
   ]
  },
  {
   "cell_type": "code",
   "execution_count": 8,
   "metadata": {},
   "outputs": [],
   "source": [
    "response = requests.get('https://swapi.co/api/people/')"
   ]
  },
  {
   "cell_type": "code",
   "execution_count": 9,
   "metadata": {},
   "outputs": [],
   "source": [
    "data = response.json()"
   ]
  },
  {
   "cell_type": "code",
   "execution_count": 10,
   "metadata": {},
   "outputs": [
    {
     "data": {
      "text/plain": [
       "87"
      ]
     },
     "execution_count": 10,
     "metadata": {},
     "output_type": "execute_result"
    }
   ],
   "source": [
    "data['count']"
   ]
  },
  {
   "cell_type": "code",
   "execution_count": 11,
   "metadata": {},
   "outputs": [],
   "source": [
    "people = []\n",
    "for i in range(1, data['count'] + 1):\n",
    "    people_url = url + str(i) + '/'\n",
    "    response = requests.get(people_url)\n",
    "    people.append(response.json())"
   ]
  },
  {
   "cell_type": "code",
   "execution_count": 12,
   "metadata": {},
   "outputs": [
    {
     "data": {
      "text/plain": [
       "{'name': 'Luke Skywalker',\n",
       " 'height': '172',\n",
       " 'mass': '77',\n",
       " 'hair_color': 'blond',\n",
       " 'skin_color': 'fair',\n",
       " 'eye_color': 'blue',\n",
       " 'birth_year': '19BBY',\n",
       " 'gender': 'male',\n",
       " 'homeworld': 'https://swapi.co/api/planets/1/',\n",
       " 'films': ['https://swapi.co/api/films/2/',\n",
       "  'https://swapi.co/api/films/6/',\n",
       "  'https://swapi.co/api/films/3/',\n",
       "  'https://swapi.co/api/films/1/',\n",
       "  'https://swapi.co/api/films/7/'],\n",
       " 'species': ['https://swapi.co/api/species/1/'],\n",
       " 'vehicles': ['https://swapi.co/api/vehicles/14/',\n",
       "  'https://swapi.co/api/vehicles/30/'],\n",
       " 'starships': ['https://swapi.co/api/starships/12/',\n",
       "  'https://swapi.co/api/starships/22/'],\n",
       " 'created': '2014-12-09T13:50:51.644000Z',\n",
       " 'edited': '2014-12-20T21:17:56.891000Z',\n",
       " 'url': 'https://swapi.co/api/people/1/'}"
      ]
     },
     "execution_count": 12,
     "metadata": {},
     "output_type": "execute_result"
    }
   ],
   "source": [
    "people[0]"
   ]
  },
  {
   "cell_type": "code",
   "execution_count": 13,
   "metadata": {},
   "outputs": [],
   "source": [
    "solo_info = []\n",
    "for character in people:\n",
    "    try:\n",
    "        if character['name'].find('Solo') != -1:\n",
    "            solo_info.append(character)\n",
    "    except:\n",
    "        solo_info = solo_info"
   ]
  },
  {
   "cell_type": "code",
   "execution_count": 14,
   "metadata": {},
   "outputs": [
    {
     "data": {
      "text/plain": [
       "[{'name': 'Han Solo',\n",
       "  'height': '180',\n",
       "  'mass': '80',\n",
       "  'hair_color': 'brown',\n",
       "  'skin_color': 'fair',\n",
       "  'eye_color': 'brown',\n",
       "  'birth_year': '29BBY',\n",
       "  'gender': 'male',\n",
       "  'homeworld': 'https://swapi.co/api/planets/22/',\n",
       "  'films': ['https://swapi.co/api/films/2/',\n",
       "   'https://swapi.co/api/films/3/',\n",
       "   'https://swapi.co/api/films/1/',\n",
       "   'https://swapi.co/api/films/7/'],\n",
       "  'species': ['https://swapi.co/api/species/1/'],\n",
       "  'vehicles': [],\n",
       "  'starships': ['https://swapi.co/api/starships/10/',\n",
       "   'https://swapi.co/api/starships/22/'],\n",
       "  'created': '2014-12-10T16:49:14.582000Z',\n",
       "  'edited': '2014-12-20T21:17:50.334000Z',\n",
       "  'url': 'https://swapi.co/api/people/14/'}]"
      ]
     },
     "execution_count": 14,
     "metadata": {},
     "output_type": "execute_result"
    }
   ],
   "source": [
    "solo_info"
   ]
  },
  {
   "cell_type": "markdown",
   "metadata": {},
   "source": [
    "## 4) How many results did you get?\n",
    "\n",
    "Show **two different ways** of displaying this number.\n",
    "\n",
    "- *Tip: One uses the API, and one uses a Python function*"
   ]
  },
  {
   "cell_type": "code",
   "execution_count": 15,
   "metadata": {},
   "outputs": [
    {
     "data": {
      "text/plain": [
       "1"
      ]
     },
     "execution_count": 15,
     "metadata": {},
     "output_type": "execute_result"
    }
   ],
   "source": [
    "len(solo_info)"
   ]
  },
  {
   "cell_type": "code",
   "execution_count": null,
   "metadata": {},
   "outputs": [],
   "source": []
  },
  {
   "cell_type": "code",
   "execution_count": null,
   "metadata": {},
   "outputs": [],
   "source": []
  },
  {
   "cell_type": "markdown",
   "metadata": {},
   "source": [
    "## 5) Write me a sentence about Han Solo\n",
    "\n",
    "Your sentence should be say `\"____ has _____ hair, is _____cm tall and weighs ____kg.\"` - make sure you have **no spcaes** between the numbers and `cm`/`kg`."
   ]
  },
  {
   "cell_type": "code",
   "execution_count": 16,
   "metadata": {},
   "outputs": [
    {
     "name": "stdout",
     "output_type": "stream",
     "text": [
      "Han Solo has brown hair, is 180cm tall and weighs 80kg .\n"
     ]
    }
   ],
   "source": [
    "SOLO = solo_info[0]\n",
    "print(SOLO['name'], \"has\", SOLO['hair_color'], \"hair, is\", SOLO['height']+\"cm\", \"tall and weighs\", SOLO['mass']+\"kg\", \".\")\n",
    "\n",
    "\n",
    "\n",
    "\n",
    "\n"
   ]
  },
  {
   "cell_type": "code",
   "execution_count": null,
   "metadata": {},
   "outputs": [],
   "source": []
  },
  {
   "cell_type": "code",
   "execution_count": null,
   "metadata": {},
   "outputs": [],
   "source": []
  },
  {
   "cell_type": "markdown",
   "metadata": {},
   "source": [
    "## 5) Search for C-3PO"
   ]
  },
  {
   "cell_type": "code",
   "execution_count": 17,
   "metadata": {},
   "outputs": [],
   "source": [
    "c3po_info = []\n",
    "for character in people:\n",
    "    try:\n",
    "        if character['name'].find('C-3PO') != -1:\n",
    "            c3po_info.append(character)\n",
    "    except:\n",
    "        c3po_info = c3po_info"
   ]
  },
  {
   "cell_type": "code",
   "execution_count": 18,
   "metadata": {},
   "outputs": [
    {
     "data": {
      "text/plain": [
       "[{'name': 'C-3PO',\n",
       "  'height': '167',\n",
       "  'mass': '75',\n",
       "  'hair_color': 'n/a',\n",
       "  'skin_color': 'gold',\n",
       "  'eye_color': 'yellow',\n",
       "  'birth_year': '112BBY',\n",
       "  'gender': 'n/a',\n",
       "  'homeworld': 'https://swapi.co/api/planets/1/',\n",
       "  'films': ['https://swapi.co/api/films/2/',\n",
       "   'https://swapi.co/api/films/5/',\n",
       "   'https://swapi.co/api/films/4/',\n",
       "   'https://swapi.co/api/films/6/',\n",
       "   'https://swapi.co/api/films/3/',\n",
       "   'https://swapi.co/api/films/1/'],\n",
       "  'species': ['https://swapi.co/api/species/2/'],\n",
       "  'vehicles': [],\n",
       "  'starships': [],\n",
       "  'created': '2014-12-10T15:10:51.357000Z',\n",
       "  'edited': '2014-12-20T21:17:50.309000Z',\n",
       "  'url': 'https://swapi.co/api/people/2/'}]"
      ]
     },
     "execution_count": 18,
     "metadata": {},
     "output_type": "execute_result"
    }
   ],
   "source": [
    "c3po_info"
   ]
  },
  {
   "cell_type": "code",
   "execution_count": null,
   "metadata": {},
   "outputs": [],
   "source": []
  },
  {
   "cell_type": "markdown",
   "metadata": {},
   "source": [
    "## 6) What URL can tell me more about his species? Make a request to the corrent endpoint.\n",
    "\n",
    "Spoiler: he's a **droid**. Are robots a species? I guess so, maybe."
   ]
  },
  {
   "cell_type": "code",
   "execution_count": 19,
   "metadata": {},
   "outputs": [],
   "source": [
    "response = requests.get('https://swapi.co/api/species/2/')\n",
    "specie = response.json()"
   ]
  },
  {
   "cell_type": "code",
   "execution_count": 20,
   "metadata": {},
   "outputs": [
    {
     "data": {
      "text/plain": [
       "{'name': 'Droid',\n",
       " 'classification': 'artificial',\n",
       " 'designation': 'sentient',\n",
       " 'average_height': 'n/a',\n",
       " 'skin_colors': 'n/a',\n",
       " 'hair_colors': 'n/a',\n",
       " 'eye_colors': 'n/a',\n",
       " 'average_lifespan': 'indefinite',\n",
       " 'homeworld': None,\n",
       " 'language': 'n/a',\n",
       " 'people': ['https://swapi.co/api/people/2/',\n",
       "  'https://swapi.co/api/people/3/',\n",
       "  'https://swapi.co/api/people/8/',\n",
       "  'https://swapi.co/api/people/23/',\n",
       "  'https://swapi.co/api/people/87/'],\n",
       " 'films': ['https://swapi.co/api/films/2/',\n",
       "  'https://swapi.co/api/films/7/',\n",
       "  'https://swapi.co/api/films/5/',\n",
       "  'https://swapi.co/api/films/4/',\n",
       "  'https://swapi.co/api/films/6/',\n",
       "  'https://swapi.co/api/films/3/',\n",
       "  'https://swapi.co/api/films/1/'],\n",
       " 'created': '2014-12-10T15:16:16.259000Z',\n",
       " 'edited': '2015-04-17T06:59:43.869528Z',\n",
       " 'url': 'https://swapi.co/api/species/2/'}"
      ]
     },
     "execution_count": 20,
     "metadata": {},
     "output_type": "execute_result"
    }
   ],
   "source": [
    "specie"
   ]
  },
  {
   "cell_type": "code",
   "execution_count": null,
   "metadata": {},
   "outputs": [],
   "source": []
  },
  {
   "cell_type": "markdown",
   "metadata": {},
   "source": [
    "## 7) Print out the URL of every droid\n",
    "\n",
    "* *Tip: life will be easier if you don't say `for droid in...` or `for person in` because you aren't looping through droids or people. What are you looping through?*"
   ]
  },
  {
   "cell_type": "code",
   "execution_count": 21,
   "metadata": {},
   "outputs": [
    {
     "data": {
      "text/plain": [
       "['https://swapi.co/api/people/2/',\n",
       " 'https://swapi.co/api/people/3/',\n",
       " 'https://swapi.co/api/people/8/',\n",
       " 'https://swapi.co/api/people/23/',\n",
       " 'https://swapi.co/api/people/87/']"
      ]
     },
     "execution_count": 21,
     "metadata": {},
     "output_type": "execute_result"
    }
   ],
   "source": [
    "specie['people']"
   ]
  },
  {
   "cell_type": "markdown",
   "metadata": {},
   "source": [
    "## 8) Print out the name of every droid\n",
    "\n",
    "* *Tip: You should start from the last answer, but add more stuff in!*\n",
    "* *Tip: You'll need to make a request every time you're in the loop*\n",
    "* *Tip: Be careful - f you re-use the variable name `data` you'll erase your old `data` variable*"
   ]
  },
  {
   "cell_type": "code",
   "execution_count": 22,
   "metadata": {
    "scrolled": true
   },
   "outputs": [
    {
     "data": {
      "text/plain": [
       "['https://swapi.co/api/people/2/',\n",
       " 'https://swapi.co/api/people/3/',\n",
       " 'https://swapi.co/api/people/8/',\n",
       " 'https://swapi.co/api/people/23/',\n",
       " 'https://swapi.co/api/people/87/']"
      ]
     },
     "execution_count": 22,
     "metadata": {},
     "output_type": "execute_result"
    }
   ],
   "source": [
    "specie['people']"
   ]
  },
  {
   "cell_type": "code",
   "execution_count": 23,
   "metadata": {},
   "outputs": [],
   "source": [
    "droid = specie['people']\n",
    "\n"
   ]
  },
  {
   "cell_type": "code",
   "execution_count": 24,
   "metadata": {},
   "outputs": [],
   "source": [
    "droid_list=[]\n",
    "for people_url in specie['people']:\n",
    "    response = requests.get(people_url)\n",
    "    droid_list.append(response.json())"
   ]
  },
  {
   "cell_type": "code",
   "execution_count": 25,
   "metadata": {},
   "outputs": [
    {
     "name": "stdout",
     "output_type": "stream",
     "text": [
      "C-3PO\n",
      "R2-D2\n",
      "R5-D4\n",
      "IG-88\n",
      "BB8\n"
     ]
    }
   ],
   "source": [
    "for droid in droid_list:\n",
    "    print(droid['name'])"
   ]
  },
  {
   "cell_type": "code",
   "execution_count": null,
   "metadata": {},
   "outputs": [],
   "source": []
  },
  {
   "cell_type": "code",
   "execution_count": null,
   "metadata": {},
   "outputs": [],
   "source": []
  },
  {
   "cell_type": "markdown",
   "metadata": {},
   "source": [
    "## 9) Print out more about the droid\n",
    "\n",
    "Count the number of films for each droid, printing `\"___ was in ___ films\"` for each of them\n",
    "\n",
    "* *Tip: You might want to look at a single droid result, or print the data in the for loop, so you know how to get the films. Or read the documentation!*"
   ]
  },
  {
   "cell_type": "code",
   "execution_count": 26,
   "metadata": {},
   "outputs": [
    {
     "name": "stdout",
     "output_type": "stream",
     "text": [
      "C-3PO was in 6 film(s).\n",
      "R2-D2 was in 7 film(s).\n",
      "R5-D4 was in 1 film(s).\n",
      "IG-88 was in 1 film(s).\n",
      "BB8 was in 1 film(s).\n"
     ]
    }
   ],
   "source": [
    "for url in specie['people']:\n",
    "    response = requests.get(url)\n",
    "    d = response.json()\n",
    "    count = len(d['films'])\n",
    "    print(f\"{d['name']} was in {count} film(s).\")"
   ]
  },
  {
   "cell_type": "code",
   "execution_count": null,
   "metadata": {},
   "outputs": [],
   "source": []
  },
  {
   "cell_type": "markdown",
   "metadata": {},
   "source": [
    "## 10) Let's be smart and cache the results *[DIFFICULT, maybe!]*\n",
    "\n",
    "So far we've been using a for loop to go through each droid. Every droid, one more request. Every time we want more data, we run the loops again. I don't want that guy to get angry that we're asking for so much data!\n",
    "\n",
    "We want to our list of **droid urls** and turn it into a **list of dictionaries about those droids**. Save it as a variable called `droids`. If you get it correct, the following code should work if you cut and paste it.\n",
    "\n",
    "```python\n",
    "for droid in droids:\n",
    "    print(droid['name'])\n",
    "```\n",
    "\n",
    "* *Tip: Use a list comprehension*\n",
    "* *Tip: So far we've done `response = requests.get..` and `response.json()` on separate lines. You'll need to combine them!*"
   ]
  },
  {
   "cell_type": "code",
   "execution_count": 27,
   "metadata": {},
   "outputs": [
    {
     "data": {
      "text/plain": [
       "[{'name': 'C-3PO',\n",
       "  'height': '167',\n",
       "  'mass': '75',\n",
       "  'hair_color': 'n/a',\n",
       "  'skin_color': 'gold',\n",
       "  'eye_color': 'yellow',\n",
       "  'birth_year': '112BBY',\n",
       "  'gender': 'n/a',\n",
       "  'homeworld': 'https://swapi.co/api/planets/1/',\n",
       "  'films': ['https://swapi.co/api/films/2/',\n",
       "   'https://swapi.co/api/films/5/',\n",
       "   'https://swapi.co/api/films/4/',\n",
       "   'https://swapi.co/api/films/6/',\n",
       "   'https://swapi.co/api/films/3/',\n",
       "   'https://swapi.co/api/films/1/'],\n",
       "  'species': ['https://swapi.co/api/species/2/'],\n",
       "  'vehicles': [],\n",
       "  'starships': [],\n",
       "  'created': '2014-12-10T15:10:51.357000Z',\n",
       "  'edited': '2014-12-20T21:17:50.309000Z',\n",
       "  'url': 'https://swapi.co/api/people/2/'},\n",
       " {'name': 'R2-D2',\n",
       "  'height': '96',\n",
       "  'mass': '32',\n",
       "  'hair_color': 'n/a',\n",
       "  'skin_color': 'white, blue',\n",
       "  'eye_color': 'red',\n",
       "  'birth_year': '33BBY',\n",
       "  'gender': 'n/a',\n",
       "  'homeworld': 'https://swapi.co/api/planets/8/',\n",
       "  'films': ['https://swapi.co/api/films/2/',\n",
       "   'https://swapi.co/api/films/5/',\n",
       "   'https://swapi.co/api/films/4/',\n",
       "   'https://swapi.co/api/films/6/',\n",
       "   'https://swapi.co/api/films/3/',\n",
       "   'https://swapi.co/api/films/1/',\n",
       "   'https://swapi.co/api/films/7/'],\n",
       "  'species': ['https://swapi.co/api/species/2/'],\n",
       "  'vehicles': [],\n",
       "  'starships': [],\n",
       "  'created': '2014-12-10T15:11:50.376000Z',\n",
       "  'edited': '2014-12-20T21:17:50.311000Z',\n",
       "  'url': 'https://swapi.co/api/people/3/'},\n",
       " {'name': 'R5-D4',\n",
       "  'height': '97',\n",
       "  'mass': '32',\n",
       "  'hair_color': 'n/a',\n",
       "  'skin_color': 'white, red',\n",
       "  'eye_color': 'red',\n",
       "  'birth_year': 'unknown',\n",
       "  'gender': 'n/a',\n",
       "  'homeworld': 'https://swapi.co/api/planets/1/',\n",
       "  'films': ['https://swapi.co/api/films/1/'],\n",
       "  'species': ['https://swapi.co/api/species/2/'],\n",
       "  'vehicles': [],\n",
       "  'starships': [],\n",
       "  'created': '2014-12-10T15:57:50.959000Z',\n",
       "  'edited': '2014-12-20T21:17:50.321000Z',\n",
       "  'url': 'https://swapi.co/api/people/8/'},\n",
       " {'name': 'IG-88',\n",
       "  'height': '200',\n",
       "  'mass': '140',\n",
       "  'hair_color': 'none',\n",
       "  'skin_color': 'metal',\n",
       "  'eye_color': 'red',\n",
       "  'birth_year': '15BBY',\n",
       "  'gender': 'none',\n",
       "  'homeworld': 'https://swapi.co/api/planets/28/',\n",
       "  'films': ['https://swapi.co/api/films/2/'],\n",
       "  'species': ['https://swapi.co/api/species/2/'],\n",
       "  'vehicles': [],\n",
       "  'starships': [],\n",
       "  'created': '2014-12-15T12:51:10.076000Z',\n",
       "  'edited': '2014-12-20T21:17:50.351000Z',\n",
       "  'url': 'https://swapi.co/api/people/23/'},\n",
       " {'name': 'BB8',\n",
       "  'height': 'unknown',\n",
       "  'mass': 'unknown',\n",
       "  'hair_color': 'none',\n",
       "  'skin_color': 'none',\n",
       "  'eye_color': 'black',\n",
       "  'birth_year': 'unknown',\n",
       "  'gender': 'none',\n",
       "  'homeworld': 'https://swapi.co/api/planets/28/',\n",
       "  'films': ['https://swapi.co/api/films/7/'],\n",
       "  'species': ['https://swapi.co/api/species/2/'],\n",
       "  'vehicles': [],\n",
       "  'starships': [],\n",
       "  'created': '2015-04-17T06:57:38.061346Z',\n",
       "  'edited': '2015-04-17T06:57:38.061453Z',\n",
       "  'url': 'https://swapi.co/api/people/87/'}]"
      ]
     },
     "execution_count": 27,
     "metadata": {},
     "output_type": "execute_result"
    }
   ],
   "source": [
    "all_droid = []\n",
    "\n",
    "for url in specie['people']:\n",
    "    response = requests.get(url)\n",
    "    d = response.json() \n",
    "    all_droid.append(d)\n",
    "\n",
    "all_droid\n"
   ]
  },
  {
   "cell_type": "code",
   "execution_count": null,
   "metadata": {},
   "outputs": [],
   "source": []
  },
  {
   "cell_type": "code",
   "execution_count": null,
   "metadata": {},
   "outputs": [],
   "source": []
  },
  {
   "cell_type": "markdown",
   "metadata": {},
   "source": [
    "## 11) Get a list of every single planet in the Star Wars universe\n",
    "\n",
    "* *Tip: You'll want to use the API documentation for this, I think*"
   ]
  },
  {
   "cell_type": "code",
   "execution_count": 28,
   "metadata": {},
   "outputs": [],
   "source": [
    "import swapi"
   ]
  },
  {
   "cell_type": "code",
   "execution_count": 29,
   "metadata": {},
   "outputs": [
    {
     "data": {
      "text/plain": [
       "[<Planet - Alderaan>,\n",
       " <Planet - Yavin IV>,\n",
       " <Planet - Hoth>,\n",
       " <Planet - Dagobah>,\n",
       " <Planet - Bespin>,\n",
       " <Planet - Endor>,\n",
       " <Planet - Naboo>,\n",
       " <Planet - Coruscant>,\n",
       " <Planet - Kamino>,\n",
       " <Planet - Geonosis>,\n",
       " <Planet - Utapau>,\n",
       " <Planet - Mustafar>,\n",
       " <Planet - Kashyyyk>,\n",
       " <Planet - Polis Massa>,\n",
       " <Planet - Mygeeto>,\n",
       " <Planet - Felucia>,\n",
       " <Planet - Cato Neimoidia>,\n",
       " <Planet - Saleucami>,\n",
       " <Planet - Stewjon>,\n",
       " <Planet - Eriadu>,\n",
       " <Planet - Corellia>,\n",
       " <Planet - Rodia>,\n",
       " <Planet - Nal Hutta>,\n",
       " <Planet - Dantooine>,\n",
       " <Planet - Bestine IV>,\n",
       " <Planet - Ord Mantell>,\n",
       " <Planet - unknown>,\n",
       " <Planet - Trandosha>,\n",
       " <Planet - Socorro>,\n",
       " <Planet - Mon Cala>,\n",
       " <Planet - Chandrila>,\n",
       " <Planet - Sullust>,\n",
       " <Planet - Toydaria>,\n",
       " <Planet - Malastare>,\n",
       " <Planet - Dathomir>,\n",
       " <Planet - Ryloth>,\n",
       " <Planet - Aleen Minor>,\n",
       " <Planet - Vulpter>,\n",
       " <Planet - Troiken>,\n",
       " <Planet - Tund>,\n",
       " <Planet - Haruun Kal>,\n",
       " <Planet - Cerea>,\n",
       " <Planet - Glee Anselm>,\n",
       " <Planet - Iridonia>,\n",
       " <Planet - Tholoth>,\n",
       " <Planet - Iktotch>,\n",
       " <Planet - Quermia>,\n",
       " <Planet - Dorin>,\n",
       " <Planet - Champala>,\n",
       " <Planet - Mirial>,\n",
       " <Planet - Serenno>,\n",
       " <Planet - Concord Dawn>,\n",
       " <Planet - Zolan>,\n",
       " <Planet - Ojom>,\n",
       " <Planet - Skako>,\n",
       " <Planet - Muunilinst>,\n",
       " <Planet - Shili>,\n",
       " <Planet - Kalee>,\n",
       " <Planet - Umbara>,\n",
       " <Planet - Tatooine>,\n",
       " <Planet - Jakku>]"
      ]
     },
     "execution_count": 29,
     "metadata": {},
     "output_type": "execute_result"
    }
   ],
   "source": [
    "planets = swapi.get_all(\"planets\")\n",
    "\n",
    "planets.items"
   ]
  },
  {
   "cell_type": "markdown",
   "metadata": {},
   "source": [
    "## 12) How many plants are there? Show me two different ways of displaying the answer.\n",
    "\n",
    "* *Tip: They won't match*"
   ]
  },
  {
   "cell_type": "code",
   "execution_count": 30,
   "metadata": {},
   "outputs": [
    {
     "data": {
      "text/plain": [
       "61"
      ]
     },
     "execution_count": 30,
     "metadata": {},
     "output_type": "execute_result"
    }
   ],
   "source": [
    "len(planets.items)"
   ]
  },
  {
   "cell_type": "code",
   "execution_count": 31,
   "metadata": {},
   "outputs": [
    {
     "name": "stdout",
     "output_type": "stream",
     "text": [
      "61\n"
     ]
    }
   ],
   "source": [
    "response = requests.get('https://swapi.co/api/planets')\n",
    "planets = response.json()\n",
    "print(planets['count'])"
   ]
  },
  {
   "cell_type": "code",
   "execution_count": null,
   "metadata": {},
   "outputs": [],
   "source": []
  },
  {
   "cell_type": "markdown",
   "metadata": {},
   "source": [
    "# These questions are all list comprehension questions, if you'd like\n",
    "\n",
    "## 13) Get the population of each of the planets\n",
    "\n",
    "* *Tip: Only use the 10 results for now*\n",
    "* *Tip: Use a list comprehension*"
   ]
  },
  {
   "cell_type": "code",
   "execution_count": 32,
   "metadata": {},
   "outputs": [
    {
     "data": {
      "text/plain": [
       "{'count': 61,\n",
       " 'next': 'https://swapi.co/api/planets/?page=2',\n",
       " 'previous': None,\n",
       " 'results': [{'name': 'Alderaan',\n",
       "   'rotation_period': '24',\n",
       "   'orbital_period': '364',\n",
       "   'diameter': '12500',\n",
       "   'climate': 'temperate',\n",
       "   'gravity': '1 standard',\n",
       "   'terrain': 'grasslands, mountains',\n",
       "   'surface_water': '40',\n",
       "   'population': '2000000000',\n",
       "   'residents': ['https://swapi.co/api/people/5/',\n",
       "    'https://swapi.co/api/people/68/',\n",
       "    'https://swapi.co/api/people/81/'],\n",
       "   'films': ['https://swapi.co/api/films/6/', 'https://swapi.co/api/films/1/'],\n",
       "   'created': '2014-12-10T11:35:48.479000Z',\n",
       "   'edited': '2014-12-20T20:58:18.420000Z',\n",
       "   'url': 'https://swapi.co/api/planets/2/'},\n",
       "  {'name': 'Yavin IV',\n",
       "   'rotation_period': '24',\n",
       "   'orbital_period': '4818',\n",
       "   'diameter': '10200',\n",
       "   'climate': 'temperate, tropical',\n",
       "   'gravity': '1 standard',\n",
       "   'terrain': 'jungle, rainforests',\n",
       "   'surface_water': '8',\n",
       "   'population': '1000',\n",
       "   'residents': [],\n",
       "   'films': ['https://swapi.co/api/films/1/'],\n",
       "   'created': '2014-12-10T11:37:19.144000Z',\n",
       "   'edited': '2014-12-20T20:58:18.421000Z',\n",
       "   'url': 'https://swapi.co/api/planets/3/'},\n",
       "  {'name': 'Hoth',\n",
       "   'rotation_period': '23',\n",
       "   'orbital_period': '549',\n",
       "   'diameter': '7200',\n",
       "   'climate': 'frozen',\n",
       "   'gravity': '1.1 standard',\n",
       "   'terrain': 'tundra, ice caves, mountain ranges',\n",
       "   'surface_water': '100',\n",
       "   'population': 'unknown',\n",
       "   'residents': [],\n",
       "   'films': ['https://swapi.co/api/films/2/'],\n",
       "   'created': '2014-12-10T11:39:13.934000Z',\n",
       "   'edited': '2014-12-20T20:58:18.423000Z',\n",
       "   'url': 'https://swapi.co/api/planets/4/'},\n",
       "  {'name': 'Dagobah',\n",
       "   'rotation_period': '23',\n",
       "   'orbital_period': '341',\n",
       "   'diameter': '8900',\n",
       "   'climate': 'murky',\n",
       "   'gravity': 'N/A',\n",
       "   'terrain': 'swamp, jungles',\n",
       "   'surface_water': '8',\n",
       "   'population': 'unknown',\n",
       "   'residents': [],\n",
       "   'films': ['https://swapi.co/api/films/2/',\n",
       "    'https://swapi.co/api/films/6/',\n",
       "    'https://swapi.co/api/films/3/'],\n",
       "   'created': '2014-12-10T11:42:22.590000Z',\n",
       "   'edited': '2014-12-20T20:58:18.425000Z',\n",
       "   'url': 'https://swapi.co/api/planets/5/'},\n",
       "  {'name': 'Bespin',\n",
       "   'rotation_period': '12',\n",
       "   'orbital_period': '5110',\n",
       "   'diameter': '118000',\n",
       "   'climate': 'temperate',\n",
       "   'gravity': '1.5 (surface), 1 standard (Cloud City)',\n",
       "   'terrain': 'gas giant',\n",
       "   'surface_water': '0',\n",
       "   'population': '6000000',\n",
       "   'residents': ['https://swapi.co/api/people/26/'],\n",
       "   'films': ['https://swapi.co/api/films/2/'],\n",
       "   'created': '2014-12-10T11:43:55.240000Z',\n",
       "   'edited': '2014-12-20T20:58:18.427000Z',\n",
       "   'url': 'https://swapi.co/api/planets/6/'},\n",
       "  {'name': 'Endor',\n",
       "   'rotation_period': '18',\n",
       "   'orbital_period': '402',\n",
       "   'diameter': '4900',\n",
       "   'climate': 'temperate',\n",
       "   'gravity': '0.85 standard',\n",
       "   'terrain': 'forests, mountains, lakes',\n",
       "   'surface_water': '8',\n",
       "   'population': '30000000',\n",
       "   'residents': ['https://swapi.co/api/people/30/'],\n",
       "   'films': ['https://swapi.co/api/films/3/'],\n",
       "   'created': '2014-12-10T11:50:29.349000Z',\n",
       "   'edited': '2014-12-20T20:58:18.429000Z',\n",
       "   'url': 'https://swapi.co/api/planets/7/'},\n",
       "  {'name': 'Naboo',\n",
       "   'rotation_period': '26',\n",
       "   'orbital_period': '312',\n",
       "   'diameter': '12120',\n",
       "   'climate': 'temperate',\n",
       "   'gravity': '1 standard',\n",
       "   'terrain': 'grassy hills, swamps, forests, mountains',\n",
       "   'surface_water': '12',\n",
       "   'population': '4500000000',\n",
       "   'residents': ['https://swapi.co/api/people/3/',\n",
       "    'https://swapi.co/api/people/21/',\n",
       "    'https://swapi.co/api/people/36/',\n",
       "    'https://swapi.co/api/people/37/',\n",
       "    'https://swapi.co/api/people/38/',\n",
       "    'https://swapi.co/api/people/39/',\n",
       "    'https://swapi.co/api/people/42/',\n",
       "    'https://swapi.co/api/people/60/',\n",
       "    'https://swapi.co/api/people/61/',\n",
       "    'https://swapi.co/api/people/66/',\n",
       "    'https://swapi.co/api/people/35/'],\n",
       "   'films': ['https://swapi.co/api/films/5/',\n",
       "    'https://swapi.co/api/films/4/',\n",
       "    'https://swapi.co/api/films/6/',\n",
       "    'https://swapi.co/api/films/3/'],\n",
       "   'created': '2014-12-10T11:52:31.066000Z',\n",
       "   'edited': '2014-12-20T20:58:18.430000Z',\n",
       "   'url': 'https://swapi.co/api/planets/8/'},\n",
       "  {'name': 'Coruscant',\n",
       "   'rotation_period': '24',\n",
       "   'orbital_period': '368',\n",
       "   'diameter': '12240',\n",
       "   'climate': 'temperate',\n",
       "   'gravity': '1 standard',\n",
       "   'terrain': 'cityscape, mountains',\n",
       "   'surface_water': 'unknown',\n",
       "   'population': '1000000000000',\n",
       "   'residents': ['https://swapi.co/api/people/34/',\n",
       "    'https://swapi.co/api/people/55/',\n",
       "    'https://swapi.co/api/people/74/'],\n",
       "   'films': ['https://swapi.co/api/films/5/',\n",
       "    'https://swapi.co/api/films/4/',\n",
       "    'https://swapi.co/api/films/6/',\n",
       "    'https://swapi.co/api/films/3/'],\n",
       "   'created': '2014-12-10T11:54:13.921000Z',\n",
       "   'edited': '2014-12-20T20:58:18.432000Z',\n",
       "   'url': 'https://swapi.co/api/planets/9/'},\n",
       "  {'name': 'Kamino',\n",
       "   'rotation_period': '27',\n",
       "   'orbital_period': '463',\n",
       "   'diameter': '19720',\n",
       "   'climate': 'temperate',\n",
       "   'gravity': '1 standard',\n",
       "   'terrain': 'ocean',\n",
       "   'surface_water': '100',\n",
       "   'population': '1000000000',\n",
       "   'residents': ['https://swapi.co/api/people/22/',\n",
       "    'https://swapi.co/api/people/72/',\n",
       "    'https://swapi.co/api/people/73/'],\n",
       "   'films': ['https://swapi.co/api/films/5/'],\n",
       "   'created': '2014-12-10T12:45:06.577000Z',\n",
       "   'edited': '2014-12-20T20:58:18.434000Z',\n",
       "   'url': 'https://swapi.co/api/planets/10/'},\n",
       "  {'name': 'Geonosis',\n",
       "   'rotation_period': '30',\n",
       "   'orbital_period': '256',\n",
       "   'diameter': '11370',\n",
       "   'climate': 'temperate, arid',\n",
       "   'gravity': '0.9 standard',\n",
       "   'terrain': 'rock, desert, mountain, barren',\n",
       "   'surface_water': '5',\n",
       "   'population': '100000000000',\n",
       "   'residents': ['https://swapi.co/api/people/63/'],\n",
       "   'films': ['https://swapi.co/api/films/5/'],\n",
       "   'created': '2014-12-10T12:47:22.350000Z',\n",
       "   'edited': '2014-12-20T20:58:18.437000Z',\n",
       "   'url': 'https://swapi.co/api/planets/11/'}]}"
      ]
     },
     "execution_count": 32,
     "metadata": {},
     "output_type": "execute_result"
    }
   ],
   "source": [
    "planets"
   ]
  },
  {
   "cell_type": "code",
   "execution_count": 33,
   "metadata": {},
   "outputs": [
    {
     "data": {
      "text/plain": [
       "[('Alderaan', '2000000000'),\n",
       " ('Yavin IV', '1000'),\n",
       " ('Hoth', 'unknown'),\n",
       " ('Dagobah', 'unknown'),\n",
       " ('Bespin', '6000000'),\n",
       " ('Endor', '30000000'),\n",
       " ('Naboo', '4500000000'),\n",
       " ('Coruscant', '1000000000000'),\n",
       " ('Kamino', '1000000000'),\n",
       " ('Geonosis', '100000000000')]"
      ]
     },
     "execution_count": 33,
     "metadata": {},
     "output_type": "execute_result"
    }
   ],
   "source": [
    "planet_pop = []\n",
    "planet_name = []\n",
    "planetsR = planets['results'] \n",
    "for planet in planetsR:\n",
    "    pop = planet['population']\n",
    "    name = planet['name']\n",
    "    planet_pop.append(pop)\n",
    "    planet_name.append(name)\n",
    "    \n",
    "planets_ = list(zip(planet_name, planet_pop))\n",
    "planets_"
   ]
  },
  {
   "cell_type": "code",
   "execution_count": null,
   "metadata": {},
   "outputs": [],
   "source": []
  },
  {
   "cell_type": "markdown",
   "metadata": {},
   "source": [
    "## 14) Get the population of each of the planets, EXCEPT the ones that have a population of `'unknown'`\n",
    "\n",
    "* *Tip: Use a list comprehension with a filter (that's the `..if..` part at the end)*"
   ]
  },
  {
   "cell_type": "code",
   "execution_count": 34,
   "metadata": {},
   "outputs": [
    {
     "data": {
      "text/plain": [
       "[('Alderaan', '2000000000'),\n",
       " ('Yavin IV', '1000'),\n",
       " ('Bespin', '6000000'),\n",
       " ('Endor', '30000000'),\n",
       " ('Naboo', '4500000000'),\n",
       " ('Coruscant', '1000000000000'),\n",
       " ('Kamino', '1000000000'),\n",
       " ('Geonosis', '100000000000')]"
      ]
     },
     "execution_count": 34,
     "metadata": {},
     "output_type": "execute_result"
    }
   ],
   "source": [
    "planet_pop = []\n",
    "planet_name = []\n",
    "planetsR = planets['results'] \n",
    "for planet in planetsR:\n",
    "    pop = planet['population']\n",
    "    if pop != 'unknown':\n",
    "        name = planet['name']\n",
    "        planet_pop.append(pop)\n",
    "        planet_name.append(name)\n",
    "    \n",
    "planets_ = list(zip(planet_name, planet_pop))\n",
    "planets_"
   ]
  },
  {
   "cell_type": "code",
   "execution_count": null,
   "metadata": {},
   "outputs": [],
   "source": []
  },
  {
   "cell_type": "markdown",
   "metadata": {},
   "source": [
    "## 14) Add up the populations\n",
    "\n",
    "* *Tip: They're strings right now, so it isn't going to work unless you change something about them*"
   ]
  },
  {
   "cell_type": "code",
   "execution_count": 35,
   "metadata": {},
   "outputs": [
    {
     "data": {
      "text/plain": [
       "[('Alderaan', '2000000000'),\n",
       " ('Yavin IV', '1000'),\n",
       " ('Bespin', '6000000'),\n",
       " ('Endor', '30000000'),\n",
       " ('Naboo', '4500000000'),\n",
       " ('Coruscant', '1000000000000'),\n",
       " ('Kamino', '1000000000'),\n",
       " ('Geonosis', '100000000000')]"
      ]
     },
     "execution_count": 35,
     "metadata": {},
     "output_type": "execute_result"
    }
   ],
   "source": [
    "planets_"
   ]
  },
  {
   "cell_type": "code",
   "execution_count": 36,
   "metadata": {},
   "outputs": [],
   "source": [
    "count_pop = 0\n",
    "for pop in planet_pop:\n",
    "    count_pop = count_pop + int(pop)"
   ]
  },
  {
   "cell_type": "code",
   "execution_count": 37,
   "metadata": {},
   "outputs": [
    {
     "data": {
      "text/plain": [
       "1107536001000"
      ]
     },
     "execution_count": 37,
     "metadata": {},
     "output_type": "execute_result"
    }
   ],
   "source": [
    "count_pop"
   ]
  },
  {
   "cell_type": "markdown",
   "metadata": {},
   "source": [
    "## 15) Print what percentage of the total population each planet has\n",
    "\n",
    "I would like the sentences to be `\"The planet ____ has a population of _____, which is ___% of the total population\"`. If we don't know the planet's population, say `\"We don't know the population of _____\"`.\n",
    "\n",
    "* *Tip: This finally uses a for loop, but also the result of the last question*"
   ]
  },
  {
   "cell_type": "code",
   "execution_count": 40,
   "metadata": {},
   "outputs": [
    {
     "name": "stdout",
     "output_type": "stream",
     "text": [
      "The planet Alderaan has a population of 2000000000, which is 0.18058103738336176 of the total population.\n",
      "The planet Yavin IV has a population of 1000, which is 9.02905186916809e-08 of the total population.\n",
      "I have no idea of the population on Hoth .\n",
      "I have no idea of the population on Dagobah .\n",
      "The planet Bespin has a population of 6000000, which is 0.0005417431121500852 of the total population.\n",
      "The planet Endor has a population of 30000000, which is 0.0027087155607504266 of the total population.\n",
      "The planet Naboo has a population of 4500000000, which is 0.40630733411256403 of the total population.\n",
      "The planet Coruscant has a population of 1000000000000, which is 90.29051869168089 of the total population.\n",
      "The planet Kamino has a population of 1000000000, which is 0.09029051869168088 of the total population.\n",
      "The planet Geonosis has a population of 100000000000, which is 9.029051869168088 of the total population.\n"
     ]
    }
   ],
   "source": [
    "for planet in planetsR:\n",
    "    name = planet['name']\n",
    "    pop = planet['population']\n",
    "    if pop != 'unknown':\n",
    "        print(f\"The planet {name} has a population of {pop}, which is {int(pop)/count_pop*100} of the total population.\")\n",
    "    else:\n",
    "        print(\"I have no idea of the population on\", name, \".\")"
   ]
  }
 ],
 "metadata": {
  "kernelspec": {
   "display_name": "Python 3",
   "language": "python",
   "name": "python3"
  },
  "language_info": {
   "codemirror_mode": {
    "name": "ipython",
    "version": 3
   },
   "file_extension": ".py",
   "mimetype": "text/x-python",
   "name": "python",
   "nbconvert_exporter": "python",
   "pygments_lexer": "ipython3",
   "version": "3.7.1"
  }
 },
 "nbformat": 4,
 "nbformat_minor": 2
}
