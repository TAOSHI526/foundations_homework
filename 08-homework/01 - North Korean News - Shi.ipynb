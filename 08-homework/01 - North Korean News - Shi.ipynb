{
 "cells": [
  {
   "cell_type": "markdown",
   "metadata": {},
   "source": [
    "# North Korean News\n",
    "\n",
    "Scrape the North Korean news agency http://kcna.kp\n",
    "\n",
    "Save a CSV called `nk-news.csv`. This file should include:\n",
    "\n",
    "* The **article headline**\n",
    "* The value of **`onclick`** (they don't have normal links)\n",
    "* The **article ID** (for example, the article ID for `fn_showArticle(\"AR0125885\", \"\", \"NT00\", \"L\")` is `AR0125885`\n",
    "\n",
    "The last part is easiest using pandas. Be sure you don't save the index!\n",
    "\n",
    "* _**Tip:** If you're using requests+BeautifulSoup, you can always look at response.text to see if the page looks like what you think it looks like_\n",
    "* _**Tip:** Check your URL to make sure it is what you think it should be!_\n",
    "* _**Tip:** Does it look different if you scrape with BeautifulSoup compared to if you scrape it with Selenium?_\n",
    "* _**Tip:** For the last part, how do you pull out part of a string from a longer string?_\n",
    "* _**Tip:** `expand=False` is helpful if you want to assign a single new column when extracting_\n",
    "* _**Tip:** `(` and `)` mean something special in regular expressions, so you have to say \"no really seriously I mean `(`\" by using `\\(` instead_\n",
    "* _**Tip:** if your `.*` is taking up too much stuff, you can try `.*?` instead, which instead of \"take as much as possible\" it means \"take only as much as needed\"_"
   ]
  },
  {
   "cell_type": "code",
   "execution_count": 1,
   "metadata": {},
   "outputs": [],
   "source": [
    "from selenium import webdriver\n",
    "import re\n",
    "import pandas as pd"
   ]
  },
  {
   "cell_type": "code",
   "execution_count": 2,
   "metadata": {},
   "outputs": [],
   "source": [
    "driver = webdriver.Chrome()"
   ]
  },
  {
   "cell_type": "code",
   "execution_count": 3,
   "metadata": {},
   "outputs": [],
   "source": [
    "driver.get('http://kcna.kp/kcna.user.home.retrieveHomeInfoList.kcmsf;jsessionid=47C9739389996C987987BF9E2AB1BC48')"
   ]
  },
  {
   "cell_type": "code",
   "execution_count": 4,
   "metadata": {},
   "outputs": [],
   "source": [
    "# titles_topleft = driver.find_elements_by_class_name('harticle15_subtitle')\n",
    "# for title in titles_topleft:\n",
    "#     print(title.text)\n",
    "# titles_topright = driver.find_elements_by_class_name('harticle3_subtitle')\n",
    "# for title in titles_topright:\n",
    "#     print(title.text)\n",
    "# titles_middle = driver.find_elements_by_class_name('sub_title2')\n",
    "# for title in titles_middle:\n",
    "#     print(title.text)\n",
    "# titles_ns = driver.find_elements_by_class_name('first_tag')\n",
    "# for title in titles_ns:\n",
    "#     print(title.text)\n",
    "# titles_int = driver.find_elements_by_class_name('left_style8')\n",
    "# for title in titles_int:\n",
    "#     print(title.text)\n",
    "# titles_int2 = driver.find_elements_by_class_name('harticle8_title')\n",
    "# for title in titles_int2:\n",
    "#     print(title.text)"
   ]
  },
  {
   "cell_type": "code",
   "execution_count": 5,
   "metadata": {
    "scrolled": true
   },
   "outputs": [
    {
     "name": "stdout",
     "output_type": "stream",
     "text": [
      "金正恩同志向李姬镐女士遗属致唁函\n",
      "金正恩同志向李姬镐女士遗属致唁函和花圈\n",
      "金正恩同志向普京总统致贺电\n",
      "金正恩同志同军属艺术小组员合影留念\n",
      "金正恩同志向劳尔·卡斯特罗同志致贺电\n",
      "大型团体操与艺术演出《人民的国家》隆重开演　金正恩同志出席观看演出\n",
      "中央美术展在平壤开幕\n",
      "朝鲜活跃红十字活动\n",
      "中央研讨会在平壤举行\n",
      "一些科研成果将助推环保工作\n",
      "朝鲜勘探一千数百万吨煤炭蕴藏量\n",
      "崔龙海电贺塞舌尔国庆节\n",
      "《劳动新闻》强调要在革命和建设中坚持主体性和民族性\n",
      "报刊新闻目录（２０１９年６月１８日）\n",
      "中央动物园的礼物动物继续增殖\n",
      "俄罗斯和阿尔及利亚人士发表谈话纪念“６•１２”朝美联合声明发表１周年\n",
      "回顾金日成主席委员会在科威特成立\n",
      "叙利亚成立回顾金日成主席统一社会党人党委员会\n",
      "委内瑞拉卡拉沃沃州纳瓜纳瓜市向金正恩同志授予最高勋章\n",
      "习近平将访问朝鲜\n",
      "平壤国际健康及医疗器具部门科技展开幕\n",
      "金才龙实地考察德川地区煤矿联合企业\n",
      "金正日同志在领导朝鲜劳动党的整个期间发表许多关于一心团结的著作\n",
      "朝鲜放流１００万多条小比目鱼\n",
      "２０１８年－２０１９年赛季朝鲜甲级足球联赛赛况（１４）\n",
      "朝中社评论：两手策略是行不通的\n",
      "培养得力的建筑师\n",
      "《劳动新闻》目录（２０１９年６月１７日）\n",
      "《劳动新闻》主张科技和教育是自力更生大进军的牵引机\n",
      "回顾金日成主席刚果（金）委员会成立\n",
      "约旦和安哥拉人士支持“６·１２”朝美联合声明\n",
      "巴基斯坦成立回顾金日成同志逝世２５周年全国委员会\n",
      "《民主朝鲜》：朝鲜将一如既往继续致力于环保工作\n",
      "瑞士团体赞扬金正日同志的党建业绩\n",
      "回顾金日成主席委员会在白俄罗斯成立\n",
      "叙利亚人士支持朝鲜劳动党为维护国际正义与和平的立场\n",
      "反帝民战平壤支部代表：将集中一切力量履行共同宣言\n",
      "实践“６·１５”共同宣言民族共同委员会呼吁高举北南共同宣言的旗帜大力开创和平、繁荣和统一的全盛期\n",
      "祖国统一研究院公报介绍南朝鲜各阶层民众争取解散“自由韩国党”斗争\n",
      "祖平统向全世界揭露“自由韩国党”的丑恶嘴脸\n",
      "朝中社评论：濒于毁灭可怜虫徒劳的对抗狂热\n",
      "反帝民战呼吁全体国民一致团结起来消除保守积弊势力实现抗争勇士们的愿望\n",
      "朝中社评论：“制造北风骚动”引起强烈反弹\n",
      "叙利亚成立回顾金日成主席统一社会党人党委员会\n",
      "委内瑞拉卡拉沃沃州纳瓜纳瓜市向金正恩同志授予最高勋章\n",
      "回顾金日成主席刚果（金）委员会成立\n",
      "约旦和安哥拉人士支持“６·１２”朝美联合声明\n",
      "巴基斯坦成立回顾金日成同志逝世２５周年全国委员会\n",
      "瑞士团体赞扬金正日同志的党建业绩\n",
      "回顾金日成主席委员会在白俄罗斯成立\n",
      "叙利亚人士支持朝鲜劳动党为维护国际正义与和平的立场\n",
      "俄罗斯和阿尔及利亚人士发表谈话纪念“６•１２”朝美联合声明发表１周年\n",
      "回顾金日成主席委员会在科威特成立\n",
      "实践“６·１５”共同宣言民族共同委员会呼吁高举北南共同宣言的旗帜大力开创和平、繁荣和统一的全盛期\n",
      "祖国统一研究院公报介绍南朝鲜各阶层民众争取解散“自由韩国党”斗争\n",
      "朝鲜外务省发言人：若美国继续奉行敌视政策，朝美联合声明前途就无法期待\n",
      "朝鲜外务省美国研究所政策研究室室长：诉诸实力绝非为美国垄断\n",
      "祖平统向全世界揭露“自由韩国党”的丑恶嘴脸\n",
      "反帝民战呼吁全体国民一致团结起来消除保守积弊势力实现抗争勇士们的愿望\n",
      "纪念“五一”国际劳动节１２９周年北南工人团体呼吁工人带头履行历史性的板门店宣言和９月平壤共同宣言\n",
      "\n",
      "\n",
      "\n",
      "\n",
      "\n",
      "\n",
      "\n",
      "崔龙海电贺塞舌尔国庆节\n",
      "委内瑞拉卡拉沃沃州纳瓜纳瓜市向金正恩同志授予最高勋章\n",
      "习近平将访问朝鲜\n",
      "金才龙实地考察德川地区煤矿联合企业\n",
      "朝中社评论：两手策略是行不通的\n",
      "朝鲜成立各道（直辖市）、市（区）、郡人民会议议员选举中央选举指导委员会\n",
      "崔龙海向哈萨克斯坦当选总统托卡耶夫致贺电\n",
      "崔龙海电贺菲律宾独立１２１周年\n",
      "朝中社评论：庇护战犯旗的目的何在？\n",
      "金才龙实地考察国民经济一些单位\n",
      "２０１８年－２０１９年赛季朝鲜甲级足球联赛赛况（１４）\n",
      "普天堡火炬奖运动会公路接力赛在平壤进行\n",
      "２０１８年－２０１９年赛季朝鲜女子甲级足球联赛赛况（１２）\n",
      "２０１８年－２０１９年赛季朝鲜甲级足球联赛赛况（１３）\n",
      "２０１８年－２０１９年赛季朝鲜女子甲级足球联赛赛况（１１）\n",
      "平壤国际健康及医疗器具部门科技展开幕\n",
      "“全国少年科幻文艺作品与模型展•２０１９”举行\n",
      "超轻型飞机游热日益升温\n",
      "朝俄旅游部门签署合作文件\n",
      "充满浪漫和欢乐的马息岭滑雪场\n",
      "朝鲜启动江西地区历史古迹旅游\n",
      "综述：朝鲜名山——金刚山\n",
      "旅游资源丰富的朝鲜主要旅游胜地——开城\n",
      "推进元山葛麻海岸旅游区建设工程快速进展\n",
      "朝鲜元山葛麻地区具有优越的海岸旅游区条件\n"
     ]
    }
   ],
   "source": [
    "titles = driver.find_elements_by_class_name('titlebet')\n",
    "for title in titles:\n",
    "    print(title.text)"
   ]
  },
  {
   "cell_type": "code",
   "execution_count": 6,
   "metadata": {},
   "outputs": [
    {
     "data": {
      "text/plain": [
       "<selenium.webdriver.remote.webelement.WebElement (session=\"f85becb89565e1346f3a32ae98a047e9\", element=\"c3eee5a2-2152-4d77-b8d7-a1c24008ec26\")>"
      ]
     },
     "execution_count": 6,
     "metadata": {},
     "output_type": "execute_result"
    }
   ],
   "source": [
    "titles[0]"
   ]
  },
  {
   "cell_type": "code",
   "execution_count": 7,
   "metadata": {},
   "outputs": [
    {
     "data": {
      "text/plain": [
       "'fn_showArticle(\"AR0126135\", \"\", \"NT00\", \"L\")'"
      ]
     },
     "execution_count": 7,
     "metadata": {},
     "output_type": "execute_result"
    }
   ],
   "source": [
    "titles[0].get_attribute('onclick')"
   ]
  },
  {
   "cell_type": "code",
   "execution_count": 8,
   "metadata": {},
   "outputs": [
    {
     "data": {
      "text/plain": [
       "['fn_showArticle(\"AR0126135\", \"\", \"NT00\", \"L\")',\n",
       " 'fn_showArticle(\"AR0126134\", \"\", \"NT00\", \"L\")',\n",
       " 'fn_showArticle(\"AR0126098\", \"\", \"NT00\", \"L\")',\n",
       " 'fn_showArticle(\"AR0125886\", \"\", \"NT00\", \"L\")',\n",
       " 'fn_showArticle(\"AR0125876\", \"\", \"NT00\", \"L\")',\n",
       " 'fn_showArticle(\"AR0125857\", \"\", \"NT00\", \"L\")',\n",
       " 'fn_showArticle(\"AR0126318\", \"\", \"NT41\", \"L\")',\n",
       " 'fn_showArticle(\"AR0126284\", \"\", \"NT41\", \"L\")',\n",
       " 'fn_showArticle(\"AR0126314\", \"\", \"NT41\", \"L\")',\n",
       " 'fn_showArticle(\"AR0126297\", \"\", \"NT41\", \"L\")',\n",
       " 'fn_showArticle(\"AR0126296\", \"\", \"NT41\", \"L\")',\n",
       " 'fn_showArticle(\"AR0126295\", \"\", \"NT41\", \"L\")',\n",
       " 'fn_showArticle(\"AR0126293\", \"\", \"NT41\", \"L\")',\n",
       " 'fn_showArticle(\"AR0126292\", \"\", \"NT41\", \"L\")',\n",
       " 'fn_showArticle(\"AR0126291\", \"\", \"NT41\", \"L\")',\n",
       " 'fn_showArticle(\"AR0126290\", \"\", \"NT41\", \"L\")',\n",
       " 'fn_showArticle(\"AR0126289\", \"\", \"NT41\", \"L\")',\n",
       " 'fn_showArticle(\"AR0126288\", \"\", \"NT41\", \"L\")',\n",
       " 'fn_showArticle(\"AR0126287\", \"\", \"NT41\", \"L\")',\n",
       " 'fn_showArticle(\"AR0126286\", \"\", \"NT41\", \"L\")',\n",
       " 'fn_showArticle(\"AR0126283\", \"\", \"NT41\", \"L\")',\n",
       " 'fn_showArticle(\"AR0126281\", \"\", \"NT41\", \"L\")',\n",
       " 'fn_showArticle(\"AR0126255\", \"\", \"NT41\", \"L\")',\n",
       " 'fn_showArticle(\"AR0126279\", \"\", \"NT41\", \"L\")',\n",
       " 'fn_showArticle(\"AR0126278\", \"\", \"NT41\", \"L\")',\n",
       " 'fn_showArticle(\"AR0126277\", \"\", \"NT41\", \"L\")',\n",
       " 'fn_showArticle(\"AR0126237\", \"\", \"NT41\", \"L\")',\n",
       " 'fn_showArticle(\"AR0126262\", \"\", \"NT41\", \"L\")',\n",
       " 'fn_showArticle(\"AR0126260\", \"\", \"NT41\", \"L\")',\n",
       " 'fn_showArticle(\"AR0126258\", \"\", \"NT41\", \"L\")',\n",
       " 'fn_showArticle(\"AR0126257\", \"\", \"NT41\", \"L\")',\n",
       " 'fn_showArticle(\"AR0126256\", \"\", \"NT41\", \"L\")',\n",
       " 'fn_showArticle(\"AR0126234\", \"\", \"NT41\", \"L\")',\n",
       " 'fn_showArticle(\"AR0126232\", \"\", \"NT41\", \"L\")',\n",
       " 'fn_showArticle(\"AR0126231\", \"\", \"NT41\", \"L\")',\n",
       " 'fn_showArticle(\"AR0126230\", \"\", \"NT41\", \"L\")',\n",
       " 'fn_showArticle(\"AR0126233\", \"\", \"NT04\", \"L\")',\n",
       " 'fn_showArticle(\"AR0126222\", \"\", \"NT04\", \"L\")',\n",
       " 'fn_showArticle(\"AR0125917\", \"\", \"NT04\", \"L\")',\n",
       " 'fn_showArticle(\"AR0125557\", \"\", \"NT04\", \"L\")',\n",
       " 'fn_showArticle(\"AR0125472\", \"\", \"NT04\", \"L\")',\n",
       " 'fn_showArticle(\"AR0125350\", \"\", \"NT04\", \"L\")',\n",
       " 'fn_showArticle(\"AR0125232\", \"\", \"NT04\", \"L\")',\n",
       " 'fn_showArticle(\"AR0126288\", \"\", \"NT06\", \"L\")',\n",
       " 'fn_showArticle(\"AR0126287\", \"\", \"NT06\", \"L\")',\n",
       " 'fn_showArticle(\"AR0126258\", \"\", \"NT06\", \"L\")',\n",
       " 'fn_showArticle(\"AR0126257\", \"\", \"NT06\", \"L\")',\n",
       " 'fn_showArticle(\"AR0126256\", \"\", \"NT06\", \"L\")',\n",
       " 'fn_showArticle(\"AR0126232\", \"\", \"NT06\", \"L\")',\n",
       " 'fn_showArticle(\"AR0126231\", \"\", \"NT06\", \"L\")',\n",
       " 'fn_showArticle(\"AR0126230\", \"\", \"NT06\", \"L\")',\n",
       " 'fn_showArticle(\"AR0126290\", \"\", \"NT06\", \"L\")',\n",
       " 'fn_showArticle(\"AR0126289\", \"\", \"NT06\", \"L\")',\n",
       " 'fn_showArticle(\"AR0126222\", \"\", \"NT17\", \"L\")',\n",
       " 'fn_showArticle(\"AR0125917\", \"\", \"NT17\", \"L\")',\n",
       " 'fn_showArticle(\"AR0125884\", \"\", \"NT17\", \"L\")',\n",
       " 'fn_showArticle(\"AR0125701\", \"\", \"NT17\", \"L\")',\n",
       " 'fn_showArticle(\"AR0125557\", \"\", \"NT17\", \"L\")',\n",
       " 'fn_showArticle(\"AR0125350\", \"\", \"NT17\", \"L\")',\n",
       " 'fn_showArticle(\"AR0124795\", \"\", \"NT17\", \"L\")',\n",
       " 'fn_showArticle(\"AR0126293\", \"\", \"NT16\", \"L\")',\n",
       " 'fn_showArticle(\"AR0126292\", \"\", \"NT16\", \"L\")',\n",
       " 'fn_showArticle(\"AR0126262\", \"\", \"NT16\", \"L\")',\n",
       " 'fn_showArticle(\"AR0126260\", \"\", \"NT16\", \"L\")',\n",
       " 'fn_showArticle(\"AR0126234\", \"\", \"NT16\", \"L\")',\n",
       " 'fn_showArticle(\"AR0126203\", \"\", \"NT16\", \"L\")',\n",
       " 'fn_showArticle(\"AR0126201\", \"\", \"NT16\", \"L\")',\n",
       " 'fn_showArticle(\"AR0126295\", \"\", \"NT21\", \"L\")',\n",
       " 'fn_showArticle(\"AR0126287\", \"\", \"NT21\", \"L\")',\n",
       " 'fn_showArticle(\"AR0126286\", \"\", \"NT21\", \"L\")',\n",
       " 'fn_showArticle(\"AR0126281\", \"\", \"NT21\", \"L\")',\n",
       " 'fn_showArticle(\"AR0126277\", \"\", \"NT21\", \"L\")',\n",
       " 'fn_showArticle(\"AR0126169\", \"\", \"NT21\", \"L\")',\n",
       " 'fn_showArticle(\"AR0126127\", \"\", \"NT21\", \"L\")',\n",
       " 'fn_showArticle(\"AR0126118\", \"\", \"NT21\", \"L\")',\n",
       " 'fn_showArticle(\"AR0126117\", \"\", \"NT21\", \"L\")',\n",
       " 'fn_showArticle(\"AR0126091\", \"\", \"NT21\", \"L\")',\n",
       " 'fn_showArticle(\"AR0126278\", \"\", \"NT11\", \"L\")',\n",
       " 'fn_showArticle(\"AR0126227\", \"\", \"NT11\", \"L\")',\n",
       " 'fn_showArticle(\"AR0126226\", \"\", \"NT11\", \"L\")',\n",
       " 'fn_showArticle(\"AR0126058\", \"\", \"NT11\", \"L\")',\n",
       " 'fn_showArticle(\"AR0126009\", \"\", \"NT11\", \"L\")',\n",
       " 'fn_showArticle(\"AR0126283\", \"\", \"NT09\", \"L\")',\n",
       " 'fn_showArticle(\"AR0125978\", \"\", \"NT09\", \"L\")',\n",
       " 'fn_showArticle(\"AR0124762\", \"\", \"NT19\", \"L\")',\n",
       " 'fn_showArticle(\"AR0122941\", \"\", \"NT19\", \"L\")',\n",
       " 'fn_showArticle(\"AR0121949\", \"\", \"NT19\", \"L\")',\n",
       " 'fn_showArticle(\"AR0121709\", \"\", \"NT19\", \"L\")',\n",
       " 'fn_showArticle(\"AR0120090\", \"\", \"NT19\", \"L\")',\n",
       " 'fn_showArticle(\"AR0116355\", \"\", \"NT19\", \"L\")',\n",
       " 'fn_showArticle(\"AR0112634\", \"\", \"NT19\", \"L\")',\n",
       " 'fn_showArticle(\"AR0108670\", \"\", \"NT19\", \"L\")']"
      ]
     },
     "execution_count": 8,
     "metadata": {},
     "output_type": "execute_result"
    }
   ],
   "source": [
    "on_list = []\n",
    "\n",
    "for title in titles:\n",
    "    onclick = title.get_attribute('onclick')\n",
    "    on_list.append(onclick)\n",
    "on_list"
   ]
  },
  {
   "cell_type": "code",
   "execution_count": 9,
   "metadata": {},
   "outputs": [],
   "source": [
    "# list_ = []\n",
    "# as_ = driver.find_elements_by_tag_name('a')\n",
    "# for a in as_:\n",
    "#     onclick = a.get_attribute('onclick')\n",
    "#     if (onclick is not None) and (len(onclick)) ==44:\n",
    "#         list_.append(onclick)\n"
   ]
  },
  {
   "cell_type": "code",
   "execution_count": 10,
   "metadata": {},
   "outputs": [
    {
     "data": {
      "text/plain": [
       "['AR0126135',\n",
       " 'AR0126134',\n",
       " 'AR0126098',\n",
       " 'AR0125886',\n",
       " 'AR0125876',\n",
       " 'AR0125857',\n",
       " 'AR0126318',\n",
       " 'AR0126284',\n",
       " 'AR0126314',\n",
       " 'AR0126297',\n",
       " 'AR0126296',\n",
       " 'AR0126295',\n",
       " 'AR0126293',\n",
       " 'AR0126292',\n",
       " 'AR0126291',\n",
       " 'AR0126290',\n",
       " 'AR0126289',\n",
       " 'AR0126288',\n",
       " 'AR0126287',\n",
       " 'AR0126286',\n",
       " 'AR0126283',\n",
       " 'AR0126281',\n",
       " 'AR0126255',\n",
       " 'AR0126279',\n",
       " 'AR0126278',\n",
       " 'AR0126277',\n",
       " 'AR0126237',\n",
       " 'AR0126262',\n",
       " 'AR0126260',\n",
       " 'AR0126258',\n",
       " 'AR0126257',\n",
       " 'AR0126256',\n",
       " 'AR0126234',\n",
       " 'AR0126232',\n",
       " 'AR0126231',\n",
       " 'AR0126230',\n",
       " 'AR0126233',\n",
       " 'AR0126222',\n",
       " 'AR0125917',\n",
       " 'AR0125557',\n",
       " 'AR0125472',\n",
       " 'AR0125350',\n",
       " 'AR0125232',\n",
       " 'AR0126288',\n",
       " 'AR0126287',\n",
       " 'AR0126258',\n",
       " 'AR0126257',\n",
       " 'AR0126256',\n",
       " 'AR0126232',\n",
       " 'AR0126231',\n",
       " 'AR0126230',\n",
       " 'AR0126290',\n",
       " 'AR0126289',\n",
       " 'AR0126222',\n",
       " 'AR0125917',\n",
       " 'AR0125884',\n",
       " 'AR0125701',\n",
       " 'AR0125557',\n",
       " 'AR0125350',\n",
       " 'AR0124795',\n",
       " 'AR0126293',\n",
       " 'AR0126292',\n",
       " 'AR0126262',\n",
       " 'AR0126260',\n",
       " 'AR0126234',\n",
       " 'AR0126203',\n",
       " 'AR0126201',\n",
       " 'AR0126295',\n",
       " 'AR0126287',\n",
       " 'AR0126286',\n",
       " 'AR0126281',\n",
       " 'AR0126277',\n",
       " 'AR0126169',\n",
       " 'AR0126127',\n",
       " 'AR0126118',\n",
       " 'AR0126117',\n",
       " 'AR0126091',\n",
       " 'AR0126278',\n",
       " 'AR0126227',\n",
       " 'AR0126226',\n",
       " 'AR0126058',\n",
       " 'AR0126009',\n",
       " 'AR0126283',\n",
       " 'AR0125978',\n",
       " 'AR0124762',\n",
       " 'AR0122941',\n",
       " 'AR0121949',\n",
       " 'AR0121709',\n",
       " 'AR0120090',\n",
       " 'AR0116355',\n",
       " 'AR0112634',\n",
       " 'AR0108670']"
      ]
     },
     "execution_count": 10,
     "metadata": {},
     "output_type": "execute_result"
    }
   ],
   "source": [
    "id_list = []\n",
    "for onclick in on_list:\n",
    "    id_ = onclick[16:25]\n",
    "    id_list.append(id_)\n",
    "id_list"
   ]
  },
  {
   "cell_type": "code",
   "execution_count": 11,
   "metadata": {},
   "outputs": [
    {
     "data": {
      "text/plain": [
       "['金正恩同志向李姬镐女士遗属致唁函',\n",
       " '金正恩同志向李姬镐女士遗属致唁函和花圈',\n",
       " '金正恩同志向普京总统致贺电',\n",
       " '金正恩同志同军属艺术小组员合影留念',\n",
       " '金正恩同志向劳尔·卡斯特罗同志致贺电',\n",
       " '大型团体操与艺术演出《人民的国家》隆重开演\\u3000金正恩同志出席观看演出',\n",
       " '中央美术展在平壤开幕',\n",
       " '朝鲜活跃红十字活动',\n",
       " '中央研讨会在平壤举行',\n",
       " '一些科研成果将助推环保工作',\n",
       " '朝鲜勘探一千数百万吨煤炭蕴藏量',\n",
       " '崔龙海电贺塞舌尔国庆节',\n",
       " '《劳动新闻》强调要在革命和建设中坚持主体性和民族性',\n",
       " '报刊新闻目录（２０１９年６月１８日）',\n",
       " '中央动物园的礼物动物继续增殖',\n",
       " '俄罗斯和阿尔及利亚人士发表谈话纪念“６•１２”朝美联合声明发表１周年',\n",
       " '回顾金日成主席委员会在科威特成立',\n",
       " '叙利亚成立回顾金日成主席统一社会党人党委员会',\n",
       " '委内瑞拉卡拉沃沃州纳瓜纳瓜市向金正恩同志授予最高勋章',\n",
       " '习近平将访问朝鲜',\n",
       " '平壤国际健康及医疗器具部门科技展开幕',\n",
       " '金才龙实地考察德川地区煤矿联合企业',\n",
       " '金正日同志在领导朝鲜劳动党的整个期间发表许多关于一心团结的著作',\n",
       " '朝鲜放流１００万多条小比目鱼',\n",
       " '２０１８年－２０１９年赛季朝鲜甲级足球联赛赛况（１４）',\n",
       " '朝中社评论：两手策略是行不通的',\n",
       " '培养得力的建筑师',\n",
       " '《劳动新闻》目录（２０１９年６月１７日）',\n",
       " '《劳动新闻》主张科技和教育是自力更生大进军的牵引机',\n",
       " '回顾金日成主席刚果（金）委员会成立',\n",
       " '约旦和安哥拉人士支持“６·１２”朝美联合声明',\n",
       " '巴基斯坦成立回顾金日成同志逝世２５周年全国委员会',\n",
       " '《民主朝鲜》：朝鲜将一如既往继续致力于环保工作',\n",
       " '瑞士团体赞扬金正日同志的党建业绩',\n",
       " '回顾金日成主席委员会在白俄罗斯成立',\n",
       " '叙利亚人士支持朝鲜劳动党为维护国际正义与和平的立场',\n",
       " '反帝民战平壤支部代表：将集中一切力量履行共同宣言',\n",
       " '实践“６·１５”共同宣言民族共同委员会呼吁高举北南共同宣言的旗帜大力开创和平、繁荣和统一的全盛期',\n",
       " '祖国统一研究院公报介绍南朝鲜各阶层民众争取解散“自由韩国党”斗争',\n",
       " '祖平统向全世界揭露“自由韩国党”的丑恶嘴脸',\n",
       " '朝中社评论：濒于毁灭可怜虫徒劳的对抗狂热',\n",
       " '反帝民战呼吁全体国民一致团结起来消除保守积弊势力实现抗争勇士们的愿望',\n",
       " '朝中社评论：“制造北风骚动”引起强烈反弹',\n",
       " '叙利亚成立回顾金日成主席统一社会党人党委员会',\n",
       " '委内瑞拉卡拉沃沃州纳瓜纳瓜市向金正恩同志授予最高勋章',\n",
       " '回顾金日成主席刚果（金）委员会成立',\n",
       " '约旦和安哥拉人士支持“６·１２”朝美联合声明',\n",
       " '巴基斯坦成立回顾金日成同志逝世２５周年全国委员会',\n",
       " '瑞士团体赞扬金正日同志的党建业绩',\n",
       " '回顾金日成主席委员会在白俄罗斯成立',\n",
       " '叙利亚人士支持朝鲜劳动党为维护国际正义与和平的立场',\n",
       " '俄罗斯和阿尔及利亚人士发表谈话纪念“６•１２”朝美联合声明发表１周年',\n",
       " '回顾金日成主席委员会在科威特成立',\n",
       " '实践“６·１５”共同宣言民族共同委员会呼吁高举北南共同宣言的旗帜大力开创和平、繁荣和统一的全盛期',\n",
       " '祖国统一研究院公报介绍南朝鲜各阶层民众争取解散“自由韩国党”斗争',\n",
       " '朝鲜外务省发言人：若美国继续奉行敌视政策，朝美联合声明前途就无法期待',\n",
       " '朝鲜外务省美国研究所政策研究室室长：诉诸实力绝非为美国垄断',\n",
       " '祖平统向全世界揭露“自由韩国党”的丑恶嘴脸',\n",
       " '反帝民战呼吁全体国民一致团结起来消除保守积弊势力实现抗争勇士们的愿望',\n",
       " '纪念“五一”国际劳动节１２９周年北南工人团体呼吁工人带头履行历史性的板门店宣言和９月平壤共同宣言',\n",
       " '',\n",
       " '',\n",
       " '',\n",
       " '',\n",
       " '',\n",
       " '',\n",
       " '',\n",
       " '崔龙海电贺塞舌尔国庆节',\n",
       " '委内瑞拉卡拉沃沃州纳瓜纳瓜市向金正恩同志授予最高勋章',\n",
       " '习近平将访问朝鲜',\n",
       " '金才龙实地考察德川地区煤矿联合企业',\n",
       " '朝中社评论：两手策略是行不通的',\n",
       " '朝鲜成立各道（直辖市）、市（区）、郡人民会议议员选举中央选举指导委员会',\n",
       " '崔龙海向哈萨克斯坦当选总统托卡耶夫致贺电',\n",
       " '崔龙海电贺菲律宾独立１２１周年',\n",
       " '朝中社评论：庇护战犯旗的目的何在？',\n",
       " '金才龙实地考察国民经济一些单位',\n",
       " '２０１８年－２０１９年赛季朝鲜甲级足球联赛赛况（１４）',\n",
       " '普天堡火炬奖运动会公路接力赛在平壤进行',\n",
       " '２０１８年－２０１９年赛季朝鲜女子甲级足球联赛赛况（１２）',\n",
       " '２０１８年－２０１９年赛季朝鲜甲级足球联赛赛况（１３）',\n",
       " '２０１８年－２０１９年赛季朝鲜女子甲级足球联赛赛况（１１）',\n",
       " '平壤国际健康及医疗器具部门科技展开幕',\n",
       " '“全国少年科幻文艺作品与模型展•２０１９”举行',\n",
       " '超轻型飞机游热日益升温',\n",
       " '朝俄旅游部门签署合作文件',\n",
       " '充满浪漫和欢乐的马息岭滑雪场',\n",
       " '朝鲜启动江西地区历史古迹旅游',\n",
       " '综述：朝鲜名山——金刚山',\n",
       " '旅游资源丰富的朝鲜主要旅游胜地——开城',\n",
       " '推进元山葛麻海岸旅游区建设工程快速进展',\n",
       " '朝鲜元山葛麻地区具有优越的海岸旅游区条件']"
      ]
     },
     "execution_count": 11,
     "metadata": {},
     "output_type": "execute_result"
    }
   ],
   "source": [
    "title_list = []\n",
    "for title in titles:\n",
    "    title_list.append(title.text)\n",
    "title_list"
   ]
  },
  {
   "cell_type": "code",
   "execution_count": 12,
   "metadata": {},
   "outputs": [
    {
     "data": {
      "text/plain": [
       "92"
      ]
     },
     "execution_count": 12,
     "metadata": {},
     "output_type": "execute_result"
    }
   ],
   "source": [
    "len(id_list)"
   ]
  },
  {
   "cell_type": "code",
   "execution_count": 13,
   "metadata": {},
   "outputs": [
    {
     "data": {
      "text/plain": [
       "92"
      ]
     },
     "execution_count": 13,
     "metadata": {},
     "output_type": "execute_result"
    }
   ],
   "source": [
    "len(title_list)"
   ]
  },
  {
   "cell_type": "code",
   "execution_count": 14,
   "metadata": {},
   "outputs": [],
   "source": [
    "big_dict = dict(zip(['title','id', 'onclick'],\n",
    "                   [ title_list,id_list,on_list]))"
   ]
  },
  {
   "cell_type": "code",
   "execution_count": 15,
   "metadata": {},
   "outputs": [],
   "source": [
    "df = pd.DataFrame(big_dict)"
   ]
  },
  {
   "cell_type": "code",
   "execution_count": 16,
   "metadata": {},
   "outputs": [
    {
     "data": {
      "text/html": [
       "<div>\n",
       "<style scoped>\n",
       "    .dataframe tbody tr th:only-of-type {\n",
       "        vertical-align: middle;\n",
       "    }\n",
       "\n",
       "    .dataframe tbody tr th {\n",
       "        vertical-align: top;\n",
       "    }\n",
       "\n",
       "    .dataframe thead th {\n",
       "        text-align: right;\n",
       "    }\n",
       "</style>\n",
       "<table border=\"1\" class=\"dataframe\">\n",
       "  <thead>\n",
       "    <tr style=\"text-align: right;\">\n",
       "      <th></th>\n",
       "      <th>title</th>\n",
       "      <th>id</th>\n",
       "      <th>onclick</th>\n",
       "    </tr>\n",
       "  </thead>\n",
       "  <tbody>\n",
       "    <tr>\n",
       "      <th>0</th>\n",
       "      <td>金正恩同志向李姬镐女士遗属致唁函</td>\n",
       "      <td>AR0126135</td>\n",
       "      <td>fn_showArticle(\"AR0126135\", \"\", \"NT00\", \"L\")</td>\n",
       "    </tr>\n",
       "    <tr>\n",
       "      <th>1</th>\n",
       "      <td>金正恩同志向李姬镐女士遗属致唁函和花圈</td>\n",
       "      <td>AR0126134</td>\n",
       "      <td>fn_showArticle(\"AR0126134\", \"\", \"NT00\", \"L\")</td>\n",
       "    </tr>\n",
       "    <tr>\n",
       "      <th>2</th>\n",
       "      <td>金正恩同志向普京总统致贺电</td>\n",
       "      <td>AR0126098</td>\n",
       "      <td>fn_showArticle(\"AR0126098\", \"\", \"NT00\", \"L\")</td>\n",
       "    </tr>\n",
       "    <tr>\n",
       "      <th>3</th>\n",
       "      <td>金正恩同志同军属艺术小组员合影留念</td>\n",
       "      <td>AR0125886</td>\n",
       "      <td>fn_showArticle(\"AR0125886\", \"\", \"NT00\", \"L\")</td>\n",
       "    </tr>\n",
       "    <tr>\n",
       "      <th>4</th>\n",
       "      <td>金正恩同志向劳尔·卡斯特罗同志致贺电</td>\n",
       "      <td>AR0125876</td>\n",
       "      <td>fn_showArticle(\"AR0125876\", \"\", \"NT00\", \"L\")</td>\n",
       "    </tr>\n",
       "  </tbody>\n",
       "</table>\n",
       "</div>"
      ],
      "text/plain": [
       "                 title         id  \\\n",
       "0     金正恩同志向李姬镐女士遗属致唁函  AR0126135   \n",
       "1  金正恩同志向李姬镐女士遗属致唁函和花圈  AR0126134   \n",
       "2        金正恩同志向普京总统致贺电  AR0126098   \n",
       "3    金正恩同志同军属艺术小组员合影留念  AR0125886   \n",
       "4   金正恩同志向劳尔·卡斯特罗同志致贺电  AR0125876   \n",
       "\n",
       "                                        onclick  \n",
       "0  fn_showArticle(\"AR0126135\", \"\", \"NT00\", \"L\")  \n",
       "1  fn_showArticle(\"AR0126134\", \"\", \"NT00\", \"L\")  \n",
       "2  fn_showArticle(\"AR0126098\", \"\", \"NT00\", \"L\")  \n",
       "3  fn_showArticle(\"AR0125886\", \"\", \"NT00\", \"L\")  \n",
       "4  fn_showArticle(\"AR0125876\", \"\", \"NT00\", \"L\")  "
      ]
     },
     "execution_count": 16,
     "metadata": {},
     "output_type": "execute_result"
    }
   ],
   "source": [
    "df.head()"
   ]
  },
  {
   "cell_type": "code",
   "execution_count": 17,
   "metadata": {},
   "outputs": [],
   "source": [
    "df.to_csv('Fxxx NK news.csv', index = False)"
   ]
  },
  {
   "cell_type": "code",
   "execution_count": null,
   "metadata": {},
   "outputs": [],
   "source": []
  }
 ],
 "metadata": {
  "kernelspec": {
   "display_name": "Python 3",
   "language": "python",
   "name": "python3"
  },
  "language_info": {
   "codemirror_mode": {
    "name": "ipython",
    "version": 3
   },
   "file_extension": ".py",
   "mimetype": "text/x-python",
   "name": "python",
   "nbconvert_exporter": "python",
   "pygments_lexer": "ipython3",
   "version": "3.7.1"
  }
 },
 "nbformat": 4,
 "nbformat_minor": 2
}
